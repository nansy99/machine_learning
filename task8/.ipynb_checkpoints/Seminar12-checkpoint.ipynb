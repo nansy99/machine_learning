{
 "cells": [
  {
   "cell_type": "markdown",
   "metadata": {
    "colab_type": "text",
    "id": "KmJVLCbzhpvN"
   },
   "source": [
    "## Работа в [XGboost](https://arxiv.org/abs/1603.02754)"
   ]
  },
  {
   "cell_type": "markdown",
   "metadata": {
    "colab_type": "text",
    "id": "biW9n5OliDni"
   },
   "source": [
    "Загружаем библиотеки:"
   ]
  },
  {
   "cell_type": "code",
   "execution_count": 2,
   "metadata": {},
   "outputs": [
    {
     "name": "stdout",
     "output_type": "stream",
     "text": [
      "Collecting xgboost\n",
      "\u001b[?25l  Downloading https://files.pythonhosted.org/packages/36/a5/703d93321f57048596217789be7c186304a33aff5b1c48c89597a546c65e/xgboost-1.0.2.tar.gz (821kB)\n",
      "\u001b[K     |████████████████████████████████| 829kB 417kB/s eta 0:00:01\n",
      "\u001b[31m    ERROR: Command errored out with exit status 1:\n",
      "     command: /Users/anastasia/opt/anaconda3/bin/python -c 'import sys, setuptools, tokenize; sys.argv[0] = '\"'\"'/private/var/folders/1s/jyb876z52t112ntqn31v2wpw0000gn/T/pip-install-bp1e4ind/xgboost/setup.py'\"'\"'; __file__='\"'\"'/private/var/folders/1s/jyb876z52t112ntqn31v2wpw0000gn/T/pip-install-bp1e4ind/xgboost/setup.py'\"'\"';f=getattr(tokenize, '\"'\"'open'\"'\"', open)(__file__);code=f.read().replace('\"'\"'\\r\\n'\"'\"', '\"'\"'\\n'\"'\"');f.close();exec(compile(code, __file__, '\"'\"'exec'\"'\"'))' egg_info --egg-base pip-egg-info\n",
      "         cwd: /private/var/folders/1s/jyb876z52t112ntqn31v2wpw0000gn/T/pip-install-bp1e4ind/xgboost/\n",
      "    Complete output (27 lines):\n",
      "    ++ pwd\n",
      "    + oldpath=/private/var/folders/1s/jyb876z52t112ntqn31v2wpw0000gn/T/pip-install-bp1e4ind/xgboost\n",
      "    + cd ./xgboost/\n",
      "    + mkdir -p build\n",
      "    + cd build\n",
      "    + cmake ..\n",
      "    ./xgboost/build-python.sh: line 21: cmake: command not found\n",
      "    + echo -----------------------------\n",
      "    -----------------------------\n",
      "    + echo 'Building multi-thread xgboost failed'\n",
      "    Building multi-thread xgboost failed\n",
      "    + echo 'Start to build single-thread xgboost'\n",
      "    Start to build single-thread xgboost\n",
      "    + cmake .. -DUSE_OPENMP=0\n",
      "    ./xgboost/build-python.sh: line 27: cmake: command not found\n",
      "    Traceback (most recent call last):\n",
      "      File \"<string>\", line 1, in <module>\n",
      "      File \"/private/var/folders/1s/jyb876z52t112ntqn31v2wpw0000gn/T/pip-install-bp1e4ind/xgboost/setup.py\", line 42, in <module>\n",
      "        LIB_PATH = libpath['find_lib_path']()\n",
      "      File \"/private/var/folders/1s/jyb876z52t112ntqn31v2wpw0000gn/T/pip-install-bp1e4ind/xgboost/xgboost/libpath.py\", line 50, in find_lib_path\n",
      "        'List of candidates:\\n' + ('\\n'.join(dll_path)))\n",
      "    XGBoostLibraryNotFound: Cannot find XGBoost Library in the candidate path, did you install compilers and run build.sh in root path?\n",
      "    List of candidates:\n",
      "    /private/var/folders/1s/jyb876z52t112ntqn31v2wpw0000gn/T/pip-install-bp1e4ind/xgboost/xgboost/libxgboost.dylib\n",
      "    /private/var/folders/1s/jyb876z52t112ntqn31v2wpw0000gn/T/pip-install-bp1e4ind/xgboost/xgboost/../../lib/libxgboost.dylib\n",
      "    /private/var/folders/1s/jyb876z52t112ntqn31v2wpw0000gn/T/pip-install-bp1e4ind/xgboost/xgboost/./lib/libxgboost.dylib\n",
      "    /Users/anastasia/opt/anaconda3/xgboost/libxgboost.dylib\n",
      "    ----------------------------------------\u001b[0m\n",
      "\u001b[31mERROR: Command errored out with exit status 1: python setup.py egg_info Check the logs for full command output.\u001b[0m\n",
      "\u001b[?25hNote: you may need to restart the kernel to use updated packages.\n"
     ]
    }
   ],
   "source": [
    "pip install xgboost"
   ]
  },
  {
   "cell_type": "code",
   "execution_count": 3,
   "metadata": {
    "colab": {},
    "colab_type": "code",
    "id": "ScW1mr0YhapW"
   },
   "outputs": [
    {
     "ename": "ModuleNotFoundError",
     "evalue": "No module named 'xgboost'",
     "output_type": "error",
     "traceback": [
      "\u001b[0;31m---------------------------------------------------------------------------\u001b[0m",
      "\u001b[0;31mModuleNotFoundError\u001b[0m                       Traceback (most recent call last)",
      "\u001b[0;32m<ipython-input-3-0184167de54e>\u001b[0m in \u001b[0;36m<module>\u001b[0;34m\u001b[0m\n\u001b[1;32m      8\u001b[0m \u001b[0;32mfrom\u001b[0m \u001b[0msklearn\u001b[0m\u001b[0;34m.\u001b[0m\u001b[0mdatasets\u001b[0m \u001b[0;32mimport\u001b[0m \u001b[0mload_iris\u001b[0m\u001b[0;34m,\u001b[0m\u001b[0mload_digits\u001b[0m\u001b[0;34m,\u001b[0m \u001b[0mload_boston\u001b[0m\u001b[0;34m\u001b[0m\u001b[0;34m\u001b[0m\u001b[0m\n\u001b[1;32m      9\u001b[0m \u001b[0;32mfrom\u001b[0m \u001b[0msklearn\u001b[0m\u001b[0;34m.\u001b[0m\u001b[0mmodel_selection\u001b[0m \u001b[0;32mimport\u001b[0m \u001b[0mGridSearchCV\u001b[0m\u001b[0;34m\u001b[0m\u001b[0;34m\u001b[0m\u001b[0m\n\u001b[0;32m---> 10\u001b[0;31m \u001b[0;32mimport\u001b[0m \u001b[0mxgboost\u001b[0m \u001b[0;32mas\u001b[0m \u001b[0mxgb\u001b[0m\u001b[0;34m\u001b[0m\u001b[0;34m\u001b[0m\u001b[0m\n\u001b[0m",
      "\u001b[0;31mModuleNotFoundError\u001b[0m: No module named 'xgboost'"
     ]
    }
   ],
   "source": [
    "import numpy as np\n",
    "import pandas as pd\n",
    "%matplotlib inline\n",
    "from matplotlib import pyplot as plt\n",
    "from sklearn.preprocessing import LabelEncoder\n",
    "from sklearn.model_selection import KFold,train_test_split\n",
    "from sklearn.metrics import accuracy_score, f1_score,confusion_matrix, mean_squared_error\n",
    "from sklearn.datasets import load_iris,load_digits, load_boston\n",
    "from sklearn.model_selection import GridSearchCV\n",
    "import xgboost as xgb"
   ]
  },
  {
   "cell_type": "markdown",
   "metadata": {
    "colab_type": "text",
    "id": "MrvtAjkVph6a"
   },
   "source": [
    "## **Параметры XGBoost**\n",
    "\n",
    "Выделяют три группы параметров:\n",
    "- Общие параметры, отвечающие за базовый алгоритм для бустинга и распараллеливание.\n",
    "- Параметры выбранного базового алгоритма.\n",
    "- Параметры обучения, отвечающие за функцию потерь и метрику качества на валидации.\n",
    "\n",
    "**1. Общие параметры:**\n",
    "- booster [default=gbtree] - тип базового алгоритма для бустинга: дерево решений gbtree или линейная модель gblinear. \n",
    "- silent [default=0] - выдавать (silent=0) или нет (silent=1) сообщения по ходу работы алгоритма.\n",
    "- nthread [default to maximum number of threads available if not set] - число нитей доступных для параллельной работы xgboost.\n",
    "\n",
    "**2. Параметры базового алгоритма:**\n",
    "\n",
    "**2.1. Дерево решений:**\n",
    "- eta [default=0.3] - темп обучения, перед добавлением дерева в композицию оно умножается на eta. Используется для предотвращения переобучения за счёт \"сокращения\" весов базовых алгоритмов, делая модель более консервативной. Чем меньше eta, тем больше нужно итераций num_boost_round для обучения модели с хорошим качеством. Диапазон: [0, 1]\n",
    "- gamma [default=0] - минимальное снижение значения функции потерь, необходимое для дальнейшего разбиения вершины дерева. Большие значения gamma > 0 приводят к более консервативным моделям. Диапазон: [0, $\\infty$).\n",
    "- max_depth [default=6] - максимальная глубина дерева. Диапазон: [1, $\\infty$). \n",
    "- min_child_weight [default=1] - минимальное необходимое (взвешенное) число примеров в каждой вершине. Чем больше, тем более консервативна итоговая модель. Диапазон: [0, $\\infty$).\n",
    "- max_delta_step [default=0] - обычно равен нулю. Положительные значения используются при несбалансированных классах для ускорения сходимости. Диапазон [0, $\\infty$).\n",
    "- subsample [default=1] - доля выборки, используемая для обучения каждого дерева. Если subsample < 1, то выбирается случайная подвыборка, что помогает в борьбе с переобучением. Диапазон: (0, 1]\n",
    "- colsample_bytree [default=1] - доля признаков, используемая для обучения каждого дерева. Диапазон: (0, 1]\n",
    "- lambda [default=1] - коэффициент перед $L_2$-регуляризатором в функции потерь.\n",
    "- alpha [default=0] - коэффициент перед $L_1$-регуляризатором в функции потерь.\n",
    "\n",
    "**2.2. Линейная модель:**\n",
    "- lambda [default=0] - коэффициент перед $L_2$-регуляризатором вектора весов в функции потерь.\n",
    "- alpha [default=0] - коэффициент перед $L_1$-регуляризатором вектора весов в функции потерь.\n",
    "- lambda_bias [default=0] - коэффициент перед $L_2$-регуляризатором смещения (свободного члена) в функции потерь.\n",
    "\n",
    "**3. Параметры задачи обучения:**\n",
    "- objective [default=reg:linear] - используемая при обучении функция потерь:\n",
    "    - \"reg:linear\" – линейная регрессия.\n",
    "    - \"reg:logistic\" – логистическая регрессия.\n",
    "    - \"binary:logistic\" – логистическая регрессия для бинарной классификации, на выходе - вероятность.\n",
    "    - \"binary:logitraw\" – то же самое, но на выходе - значение до его преобразования логистической функцией.\n",
    "    - \"count:poisson\" – регрессия Пуассона (используется для оценки числа каких-то событий, счётный признак), на выходе - матожидания распределения Пуассона. В этом случае max_delta_step автоматически устанавливается равным 0.7.\n",
    "    - \"multi:softmax\" – обобщение логистической регрессии на многоклассовый случай. При этом нужно задать параметр num_class.\n",
    "    - \"multi:softprob\" – то же самое, но на выходе - вектор размера ndata * nclass, который можно преобразовать в матрицу, содержащую вероятности отнесения данного объекта к данному классу.\n",
    "    - \"rank:pairwise\" – используется для задач ранжирования.\n",
    "- base_score [default=0.5] - инициализация значения модели для всех примеров, глобальное смещение.\n",
    "- eval_metric [default according to objective] - метрика качества на валидационной выборке (по умолчанию соответствует функции потерь: rmse - для регрессии, error - для классификации, mean average precision - для ранжирования). Выбрать можно одну из следующих метрик:\n",
    "    - \"rmse\": root mean square error.\n",
    "    - \"logloss\": минус логарифм правдоподобия.\n",
    "    - \"error\": доля ошибок для бинарной классификации.\n",
    "    - \"merror\": то же самое для многоклассовой классификации.\n",
    "    - \"mlogloss\": logloss для многоклассовой классификации.\n",
    "    - \"auc\": AUC.\n",
    "    - \"ndcg\": Normalized Discounted Cumulative Gain.\n",
    "    - \"map\": Mean average precision.\n",
    "    - \"ndcg@n\",”map@n”: здесь n - целое число, первые n позиций в списке не учитываются.\n",
    "    - \"ndcg-\",”map-”,”ndcg@n-”,”map@n-”: списку из всех положительных примеров будет присвоено значение 0 (вместо 1).\n",
    "- seed [default=0] - для воспроизводимости \"случайности\".\n",
    "\n",
    "**Параметры в xgboost.train**:\n",
    "- params (dict) – параметры, описанные выше.\n",
    "- dtrain (DMatrix) – обучающая выборка.\n",
    "- num_boost_round (int) – число итераций бустинга.\n",
    "- evals (list) – список для оценки качества во время обучения.\n",
    "- obj (function) – собственная функция потерь.\n",
    "- feval (function) – собственная функция для оценки качества.\n",
    "- maximize (bool) – нужно ли максимизировать feval.\n",
    "- early_stopping_rounds (int) – активирует early stopping. Ошибка на валидации должна уменьшаться каждые early_stopping_rounds итераций для продолжения обучения. Список evals должен быть не пуст. Возвращается модель с последней итерации. Если произошел ранний останов, то модель будет содержать поля: bst.best_score и bst.best_iteration.\n",
    "- evals_result (dict) – результаты оценки качества.\n",
    "- verbose_eval (bool) – вывод значения метрики качества на каждой итерации бустинга.\n",
    "- learning_rates (list or function) – коэффициент скорости обучения для каждой итерации - list l: eta = l[boosting round] - function f: eta = f(boosting round, num_boost_round).\n",
    "- xgb_model (file name of stored xgb model or ‘Booster’ instance) – возможность продолжить обучения имеющейся модели XGB."
   ]
  },
  {
   "cell_type": "markdown",
   "metadata": {
    "colab_type": "text",
    "id": "1gJ68XRSlwcU"
   },
   "source": [
    "Пример использования Xgboost для классификации на данных Iris.\n",
    "\n"
   ]
  },
  {
   "cell_type": "code",
   "execution_count": 0,
   "metadata": {
    "colab": {
     "base_uri": "https://localhost:8080/",
     "height": 277
    },
    "colab_type": "code",
    "id": "rNZF4re0lu8H",
    "outputId": "e3a6f307-9277-4bf5-a9a8-4cee574d3551"
   },
   "outputs": [
    {
     "name": "stdout",
     "output_type": "stream",
     "text": [
      "[[ 8  0  0]\n",
      " [ 0 11  0]\n",
      " [ 0  2  9]]\n",
      "[[12  0  0]\n",
      " [ 0 11  0]\n",
      " [ 0  1  6]]\n",
      "[[ 7  0  0]\n",
      " [ 0 13  0]\n",
      " [ 0  1  9]]\n",
      "[[10  0  0]\n",
      " [ 0  8  1]\n",
      " [ 0  0 11]]\n",
      "[[13  0  0]\n",
      " [ 0  4  2]\n",
      " [ 0  0 11]]\n"
     ]
    }
   ],
   "source": [
    "iris = load_iris()\n",
    "X = iris['data']\n",
    "y = iris['target']\n",
    "kf = KFold(n_splits=5, shuffle=True, random_state=20)\n",
    "for train_index, test_index in kf.split(y):\n",
    "    xgb_model = xgb.XGBClassifier().fit(X[train_index], y[train_index])\n",
    "    predictions = xgb_model.predict(X[test_index])\n",
    "    actuals = y[test_index]\n",
    "    print(confusion_matrix(actuals, predictions))"
   ]
  },
  {
   "cell_type": "markdown",
   "metadata": {
    "colab_type": "text",
    "id": "-vRLwzx4mKtO"
   },
   "source": [
    "Пример восстановления регрессии с Xgboost на данных boston."
   ]
  },
  {
   "cell_type": "code",
   "execution_count": 0,
   "metadata": {
    "colab": {
     "base_uri": "https://localhost:8080/",
     "height": 104
    },
    "colab_type": "code",
    "id": "10ZOOkzCmPYF",
    "outputId": "6f1a03f0-1b5e-4269-8eae-6741e78eeb66"
   },
   "outputs": [
    {
     "name": "stdout",
     "output_type": "stream",
     "text": [
      "8.129992031937604\n",
      "9.65223163719097\n",
      "17.839230414021902\n",
      "6.857900911239092\n",
      "8.673159469080009\n"
     ]
    }
   ],
   "source": [
    "boston = load_boston()\n",
    "y = boston['target']\n",
    "X = boston['data']\n",
    "kf = KFold(n_splits=5, shuffle=True, random_state=17)\n",
    "for train_index, test_index in kf.split(y):\n",
    "    xgb_model = xgb.XGBRegressor(objective ='reg:squarederror').fit(X[train_index],y[train_index])\n",
    "    predictions = xgb_model.predict(X[test_index])\n",
    "    actuals = y[test_index]\n",
    "    print(mean_squared_error(actuals, predictions))"
   ]
  },
  {
   "cell_type": "markdown",
   "metadata": {
    "colab_type": "text",
    "id": "pc1tpFNpm4np"
   },
   "source": [
    "Простой пример подбора параметров с GridSearchCV."
   ]
  },
  {
   "cell_type": "code",
   "execution_count": 0,
   "metadata": {
    "colab": {
     "base_uri": "https://localhost:8080/",
     "height": 104
    },
    "colab_type": "code",
    "id": "k_dBkU-Cm9pS",
    "outputId": "86c00f6a-27e4-4e7e-c3a3-df456a1d004c"
   },
   "outputs": [
    {
     "name": "stdout",
     "output_type": "stream",
     "text": [
      "Fitting 5 folds for each of 4 candidates, totalling 20 fits\n"
     ]
    },
    {
     "name": "stderr",
     "output_type": "stream",
     "text": [
      "[Parallel(n_jobs=1)]: Using backend SequentialBackend with 1 concurrent workers.\n"
     ]
    },
    {
     "name": "stdout",
     "output_type": "stream",
     "text": [
      "0.6697440508380478\n",
      "{'max_depth': 2}\n"
     ]
    },
    {
     "name": "stderr",
     "output_type": "stream",
     "text": [
      "[Parallel(n_jobs=1)]: Done  20 out of  20 | elapsed:    1.4s finished\n"
     ]
    }
   ],
   "source": [
    "xgb_model = xgb.XGBRegressor(objective ='reg:squarederror')\n",
    "xgb_grid = GridSearchCV(xgb_model,\n",
    "                   {'max_depth': [2,4,6,8]}, verbose=1)\n",
    "xgb_grid.fit(X,y)\n",
    "print(xgb_grid.best_score_)\n",
    "print(xgb_grid.best_params_)"
   ]
  },
  {
   "cell_type": "markdown",
   "metadata": {
    "colab_type": "text",
    "id": "PK9bBptKhtHE"
   },
   "source": [
    "Чтобы прекратить обучение модели (градиентный спуск), если ошибка за несколько итераций не уменьшилась, используется ранняя остановка:"
   ]
  },
  {
   "cell_type": "code",
   "execution_count": 0,
   "metadata": {
    "colab": {
     "base_uri": "https://localhost:8080/",
     "height": 1000
    },
    "colab_type": "code",
    "id": "0r-f2ic0nPSK",
    "outputId": "101fccc9-5d08-4a67-9f68-ae9796bec64c"
   },
   "outputs": [
    {
     "name": "stdout",
     "output_type": "stream",
     "text": [
      "[0]\tvalidation_0-merror:0.177778\n",
      "Will train until validation_0-merror hasn't improved in 10 rounds.\n",
      "[1]\tvalidation_0-merror:0.157778\n",
      "[2]\tvalidation_0-merror:0.148889\n",
      "[3]\tvalidation_0-merror:0.135556\n",
      "[4]\tvalidation_0-merror:0.131111\n",
      "[5]\tvalidation_0-merror:0.122222\n",
      "[6]\tvalidation_0-merror:0.106667\n",
      "[7]\tvalidation_0-merror:0.104444\n",
      "[8]\tvalidation_0-merror:0.104444\n",
      "[9]\tvalidation_0-merror:0.102222\n",
      "[10]\tvalidation_0-merror:0.097778\n",
      "[11]\tvalidation_0-merror:0.097778\n",
      "[12]\tvalidation_0-merror:0.095556\n",
      "[13]\tvalidation_0-merror:0.095556\n",
      "[14]\tvalidation_0-merror:0.097778\n",
      "[15]\tvalidation_0-merror:0.097778\n",
      "[16]\tvalidation_0-merror:0.093333\n",
      "[17]\tvalidation_0-merror:0.088889\n",
      "[18]\tvalidation_0-merror:0.091111\n",
      "[19]\tvalidation_0-merror:0.093333\n",
      "[20]\tvalidation_0-merror:0.091111\n",
      "[21]\tvalidation_0-merror:0.086667\n",
      "[22]\tvalidation_0-merror:0.084444\n",
      "[23]\tvalidation_0-merror:0.082222\n",
      "[24]\tvalidation_0-merror:0.082222\n",
      "[25]\tvalidation_0-merror:0.082222\n",
      "[26]\tvalidation_0-merror:0.082222\n",
      "[27]\tvalidation_0-merror:0.08\n",
      "[28]\tvalidation_0-merror:0.077778\n",
      "[29]\tvalidation_0-merror:0.077778\n",
      "[30]\tvalidation_0-merror:0.077778\n",
      "[31]\tvalidation_0-merror:0.077778\n",
      "[32]\tvalidation_0-merror:0.077778\n",
      "[33]\tvalidation_0-merror:0.077778\n",
      "[34]\tvalidation_0-merror:0.077778\n",
      "[35]\tvalidation_0-merror:0.077778\n",
      "[36]\tvalidation_0-merror:0.077778\n",
      "[37]\tvalidation_0-merror:0.075556\n",
      "[38]\tvalidation_0-merror:0.073333\n",
      "[39]\tvalidation_0-merror:0.073333\n",
      "[40]\tvalidation_0-merror:0.073333\n",
      "[41]\tvalidation_0-merror:0.075556\n",
      "[42]\tvalidation_0-merror:0.068889\n",
      "[43]\tvalidation_0-merror:0.066667\n",
      "[44]\tvalidation_0-merror:0.06\n",
      "[45]\tvalidation_0-merror:0.062222\n",
      "[46]\tvalidation_0-merror:0.062222\n",
      "[47]\tvalidation_0-merror:0.06\n",
      "[48]\tvalidation_0-merror:0.064444\n",
      "[49]\tvalidation_0-merror:0.064444\n",
      "[50]\tvalidation_0-merror:0.062222\n",
      "[51]\tvalidation_0-merror:0.06\n",
      "[52]\tvalidation_0-merror:0.064444\n",
      "[53]\tvalidation_0-merror:0.062222\n",
      "[54]\tvalidation_0-merror:0.06\n",
      "Stopping. Best iteration:\n",
      "[44]\tvalidation_0-merror:0.06\n",
      "\n"
     ]
    },
    {
     "data": {
      "text/plain": [
       "XGBClassifier(base_score=0.5, booster='gbtree', colsample_bylevel=1,\n",
       "              colsample_bynode=1, colsample_bytree=1, gamma=0,\n",
       "              learning_rate=0.1, max_delta_step=0, max_depth=3,\n",
       "              min_child_weight=1, missing=None, n_estimators=100, n_jobs=1,\n",
       "              nthread=None, objective='multi:softprob', random_state=0,\n",
       "              reg_alpha=0, reg_lambda=1, scale_pos_weight=1, seed=None,\n",
       "              silent=None, subsample=1, verbosity=1)"
      ]
     },
     "execution_count": 6,
     "metadata": {
      "tags": []
     },
     "output_type": "execute_result"
    }
   ],
   "source": [
    "digits = load_digits()\n",
    "\n",
    "X = digits['data']\n",
    "y = digits['target']\n",
    "X_train, X_test, y_train, y_test = train_test_split(X, y, random_state=17)\n",
    "clf = xgb.XGBClassifier()\n",
    "clf.fit(X_train, y_train, early_stopping_rounds=10, eval_metric=\"merror\",\n",
    "        eval_set=[(X_test, y_test)])"
   ]
  },
  {
   "cell_type": "code",
   "execution_count": 0,
   "metadata": {
    "colab": {
     "base_uri": "https://localhost:8080/",
     "height": 283
    },
    "colab_type": "code",
    "id": "Z_7e4ntwqNQ4",
    "outputId": "a44b5371-276f-4007-c000-ba7b776f844e"
   },
   "outputs": [
    {
     "data": {
      "image/png": "[encoded data removed]",
      "text/plain": [
       "<Figure size 432x288 with 1 Axes>"
      ]
     },
     "metadata": {
      "tags": []
     },
     "output_type": "display_data"
    }
   ],
   "source": [
    "errors_by_iter = clf.evals_result()['validation_0']['merror']\n",
    "plt.plot(range(1, len(errors_by_iter) + 1), errors_by_iter)\n",
    "plt.xlabel('iter');\n",
    "plt.ylabel('error');\n",
    "plt.ylim(0, 0.2);"
   ]
  },
  {
   "cell_type": "markdown",
   "metadata": {
    "colab_type": "text",
    "id": "Uu6usZrNhXov"
   },
   "source": [
    "## Загрузка и подготовка данных\n",
    "\n",
    "Посмотрим на примере данных по оттоку клиентов из телеком-компании.\n",
    "\n",
    "> **Важно**: XGBoost поддерживает только числовые признаки. Поэтому текстовые признаки требуют предобработки\n",
    "\n",
    "Для обучения с Xgboost данные должны быть представлены в виде объекта `DMatrix`, предназначенного для представления разреженных данных. Его можно инициализировать через:\n",
    "- текстовый формат libsvm,\n",
    "-  Numpy 2D array (чаще всего)\n",
    "- бинарный буфер-файл XGBoost "
   ]
  },
  {
   "cell_type": "code",
   "execution_count": 0,
   "metadata": {
    "colab": {
     "base_uri": "https://localhost:8080/",
     "height": 93,
     "resources": {
      "http://localhost:8080/nbextensions/google.colab/files.js": {
       "data": "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",
       "headers": [
        [
         "content-type",
         "application/javascript"
        ]
       ],
       "ok": true,
       "status": 200,
       "status_text": ""
      }
     }
    },
    "colab_type": "code",
    "id": "bXuSfI32iUbP",
    "outputId": "0d6acc3f-cc9c-447e-9399-8ad9400f2b01"
   },
   "outputs": [
    {
     "data": {
      "text/html": [
       "\n",
       "     <input type=\"file\" id=\"files-951d0b8f-671f-4f0b-a45f-625decf04dba\" name=\"files[]\" multiple disabled />\n",
       "     <output id=\"result-951d0b8f-671f-4f0b-a45f-625decf04dba\">\n",
       "      Upload widget is only available when the cell has been executed in the\n",
       "      current browser session. Please rerun this cell to enable.\n",
       "      </output>\n",
       "      <script src=\"/nbextensions/google.colab/files.js\"></script> "
      ],
      "text/plain": [
       "<IPython.core.display.HTML object>"
      ]
     },
     "metadata": {
      "tags": []
     },
     "output_type": "display_data"
    },
    {
     "name": "stdout",
     "output_type": "stream",
     "text": [
      "Saving telecom_churn.csv to telecom_churn.csv\n",
      "User uploaded file \"telecom_churn.csv\" with length 279997 bytes\n"
     ]
    }
   ],
   "source": [
    "from google.colab import files\n",
    "\n",
    "uploaded = files.upload()\n",
    "\n",
    "for fn in uploaded.keys():\n",
    "  print('User uploaded file \"{name}\" with length {length} bytes'.format(\n",
    "      name=fn, length=len(uploaded[fn])))"
   ]
  },
  {
   "cell_type": "code",
   "execution_count": 0,
   "metadata": {
    "colab": {
     "base_uri": "https://localhost:8080/",
     "height": 257
    },
    "colab_type": "code",
    "id": "SeN56lOrknEu",
    "outputId": "8c48ee08-e6da-4936-cd0e-70f8ab079dc1"
   },
   "outputs": [
    {
     "data": {
      "text/html": [
       "<div>\n",
       "<style scoped>\n",
       "    .dataframe tbody tr th:only-of-type {\n",
       "        vertical-align: middle;\n",
       "    }\n",
       "\n",
       "    .dataframe tbody tr th {\n",
       "        vertical-align: top;\n",
       "    }\n",
       "\n",
       "    .dataframe thead th {\n",
       "        text-align: right;\n",
       "    }\n",
       "</style>\n",
       "<table border=\"1\" class=\"dataframe\">\n",
       "  <thead>\n",
       "    <tr style=\"text-align: right;\">\n",
       "      <th></th>\n",
       "      <th>State</th>\n",
       "      <th>Account length</th>\n",
       "      <th>Area code</th>\n",
       "      <th>International plan</th>\n",
       "      <th>Voice mail plan</th>\n",
       "      <th>Number vmail messages</th>\n",
       "      <th>Total day minutes</th>\n",
       "      <th>Total day calls</th>\n",
       "      <th>Total day charge</th>\n",
       "      <th>Total eve minutes</th>\n",
       "      <th>Total eve calls</th>\n",
       "      <th>Total eve charge</th>\n",
       "      <th>Total night minutes</th>\n",
       "      <th>Total night calls</th>\n",
       "      <th>Total night charge</th>\n",
       "      <th>Total intl minutes</th>\n",
       "      <th>Total intl calls</th>\n",
       "      <th>Total intl charge</th>\n",
       "      <th>Customer service calls</th>\n",
       "      <th>Churn</th>\n",
       "    </tr>\n",
       "  </thead>\n",
       "  <tbody>\n",
       "    <tr>\n",
       "      <th>0</th>\n",
       "      <td>KS</td>\n",
       "      <td>128</td>\n",
       "      <td>415</td>\n",
       "      <td>No</td>\n",
       "      <td>Yes</td>\n",
       "      <td>25</td>\n",
       "      <td>265.1</td>\n",
       "      <td>110</td>\n",
       "      <td>45.07</td>\n",
       "      <td>197.4</td>\n",
       "      <td>99</td>\n",
       "      <td>16.78</td>\n",
       "      <td>244.7</td>\n",
       "      <td>91</td>\n",
       "      <td>11.01</td>\n",
       "      <td>10.0</td>\n",
       "      <td>3</td>\n",
       "      <td>2.70</td>\n",
       "      <td>1</td>\n",
       "      <td>False</td>\n",
       "    </tr>\n",
       "    <tr>\n",
       "      <th>1</th>\n",
       "      <td>OH</td>\n",
       "      <td>107</td>\n",
       "      <td>415</td>\n",
       "      <td>No</td>\n",
       "      <td>Yes</td>\n",
       "      <td>26</td>\n",
       "      <td>161.6</td>\n",
       "      <td>123</td>\n",
       "      <td>27.47</td>\n",
       "      <td>195.5</td>\n",
       "      <td>103</td>\n",
       "      <td>16.62</td>\n",
       "      <td>254.4</td>\n",
       "      <td>103</td>\n",
       "      <td>11.45</td>\n",
       "      <td>13.7</td>\n",
       "      <td>3</td>\n",
       "      <td>3.70</td>\n",
       "      <td>1</td>\n",
       "      <td>False</td>\n",
       "    </tr>\n",
       "    <tr>\n",
       "      <th>2</th>\n",
       "      <td>NJ</td>\n",
       "      <td>137</td>\n",
       "      <td>415</td>\n",
       "      <td>No</td>\n",
       "      <td>No</td>\n",
       "      <td>0</td>\n",
       "      <td>243.4</td>\n",
       "      <td>114</td>\n",
       "      <td>41.38</td>\n",
       "      <td>121.2</td>\n",
       "      <td>110</td>\n",
       "      <td>10.30</td>\n",
       "      <td>162.6</td>\n",
       "      <td>104</td>\n",
       "      <td>7.32</td>\n",
       "      <td>12.2</td>\n",
       "      <td>5</td>\n",
       "      <td>3.29</td>\n",
       "      <td>0</td>\n",
       "      <td>False</td>\n",
       "    </tr>\n",
       "    <tr>\n",
       "      <th>3</th>\n",
       "      <td>OH</td>\n",
       "      <td>84</td>\n",
       "      <td>408</td>\n",
       "      <td>Yes</td>\n",
       "      <td>No</td>\n",
       "      <td>0</td>\n",
       "      <td>299.4</td>\n",
       "      <td>71</td>\n",
       "      <td>50.90</td>\n",
       "      <td>61.9</td>\n",
       "      <td>88</td>\n",
       "      <td>5.26</td>\n",
       "      <td>196.9</td>\n",
       "      <td>89</td>\n",
       "      <td>8.86</td>\n",
       "      <td>6.6</td>\n",
       "      <td>7</td>\n",
       "      <td>1.78</td>\n",
       "      <td>2</td>\n",
       "      <td>False</td>\n",
       "    </tr>\n",
       "    <tr>\n",
       "      <th>4</th>\n",
       "      <td>OK</td>\n",
       "      <td>75</td>\n",
       "      <td>415</td>\n",
       "      <td>Yes</td>\n",
       "      <td>No</td>\n",
       "      <td>0</td>\n",
       "      <td>166.7</td>\n",
       "      <td>113</td>\n",
       "      <td>28.34</td>\n",
       "      <td>148.3</td>\n",
       "      <td>122</td>\n",
       "      <td>12.61</td>\n",
       "      <td>186.9</td>\n",
       "      <td>121</td>\n",
       "      <td>8.41</td>\n",
       "      <td>10.1</td>\n",
       "      <td>3</td>\n",
       "      <td>2.73</td>\n",
       "      <td>3</td>\n",
       "      <td>False</td>\n",
       "    </tr>\n",
       "  </tbody>\n",
       "</table>\n",
       "</div>"
      ],
      "text/plain": [
       "  State  Account length  ...  Customer service calls  Churn\n",
       "0    KS             128  ...                       1  False\n",
       "1    OH             107  ...                       1  False\n",
       "2    NJ             137  ...                       0  False\n",
       "3    OH              84  ...                       2  False\n",
       "4    OK              75  ...                       3  False\n",
       "\n",
       "[5 rows x 20 columns]"
      ]
     },
     "execution_count": 8,
     "metadata": {
      "tags": []
     },
     "output_type": "execute_result"
    }
   ],
   "source": [
    "df = pd.read_csv('telecom_churn.csv')\n",
    "df.head()"
   ]
  },
  {
   "cell_type": "markdown",
   "metadata": {
    "colab_type": "text",
    "id": "UOYuOxuTtgSr"
   },
   "source": [
    "**Предобработка:**\n",
    "\n",
    "штаты просто занумеруем (хотя можно и лучше поступить), а признаки International plan (наличие международного роуминга), Voice mail plan (наличие голосовой почтыы) и целевой Churn сделаем бинарными."
   ]
  },
  {
   "cell_type": "code",
   "execution_count": 0,
   "metadata": {
    "colab": {},
    "colab_type": "code",
    "id": "UbP3UEsxsv-F"
   },
   "outputs": [],
   "source": [
    "state_enc = LabelEncoder()\n",
    "df['State'] = state_enc.fit_transform(df['State'])\n",
    "df['International plan'] = (df['International plan'] == 'Yes').astype('int')\n",
    "df['Voice mail plan'] = (df['Voice mail plan'] == 'Yes').astype('int')\n",
    "df['Churn'] = (df['Churn']).astype('int')"
   ]
  },
  {
   "cell_type": "code",
   "execution_count": 0,
   "metadata": {
    "colab": {
     "base_uri": "https://localhost:8080/",
     "height": 72
    },
    "colab_type": "code",
    "id": "xdBMFtMZs5hG",
    "outputId": "eb559edc-d433-453c-f75a-28212943ebeb"
   },
   "outputs": [
    {
     "name": "stderr",
     "output_type": "stream",
     "text": [
      "/usr/local/lib/python3.6/dist-packages/xgboost/core.py:587: FutureWarning: Series.base is deprecated and will be removed in a future version\n",
      "  if getattr(data, 'base', None) is not None and \\\n"
     ]
    }
   ],
   "source": [
    "X_train, X_test, y_train, y_test = train_test_split(df.drop('Churn', axis=1), df['Churn'],\n",
    "                                                    test_size=0.3, stratify=df['Churn'], random_state=17)\n",
    "dtrain = xgb.DMatrix(X_train, y_train)\n",
    "dtest = xgb.DMatrix(X_test, y_test)"
   ]
  },
  {
   "cell_type": "code",
   "execution_count": 0,
   "metadata": {
    "colab": {
     "base_uri": "https://localhost:8080/",
     "height": 52
    },
    "colab_type": "code",
    "id": "7WvRf6S1td_e",
    "outputId": "5b4970bd-b4c7-4ee9-8ce0-53fffe6f6cbb"
   },
   "outputs": [
    {
     "name": "stdout",
     "output_type": "stream",
     "text": [
      "Train dataset contains 2333 rows and 19 columns\n",
      "Test dataset contains 1000 rows and 19 columns\n"
     ]
    }
   ],
   "source": [
    "print(\"Train dataset contains {0} rows and {1} columns\".format(dtrain.num_row(), dtrain.num_col()))\n",
    "print(\"Test dataset contains {0} rows and {1} columns\".format(dtest.num_row(), dtest.num_col()))"
   ]
  },
  {
   "cell_type": "markdown",
   "metadata": {
    "colab_type": "text",
    "id": "zJZVkkvquC2B"
   },
   "source": [
    "### Инициализация параметров\n",
    "\n",
    "- бинарная классификация (`'objective':'binary:logistic'`)\n",
    "- ограничим глубину деревьев (`'max_depth':3`)\n",
    "- не хотим лишнего вывода (`'silent':1`)\n",
    "- проведем 50 итераций бустинга\n",
    "- шаг градиентного спуска довольно большой (`'eta':1`) - алгоритм будет обучаться быстро и \"агрессивно\" (лучше результаты будут, если уменьшить eta и увеличить число итераций)"
   ]
  },
  {
   "cell_type": "code",
   "execution_count": 0,
   "metadata": {
    "colab": {},
    "colab_type": "code",
    "id": "eJ27aWuCuE88"
   },
   "outputs": [],
   "source": [
    "params = {\n",
    "    'objective':'binary:logistic',\n",
    "    'max_depth': 3,\n",
    "    'silent': 1,\n",
    "    'eta': 1\n",
    "}\n",
    "\n",
    "num_rounds = 50"
   ]
  },
  {
   "cell_type": "markdown",
   "metadata": {
    "colab_type": "text",
    "id": "7qxUaT0VlLdC"
   },
   "source": [
    "Обучим градиентный бустинг с заданными параметрами. Обратите вни мание, мы это делаем через c помощью xgboost.train()!!!"
   ]
  },
  {
   "cell_type": "code",
   "execution_count": 0,
   "metadata": {
    "colab": {},
    "colab_type": "code",
    "id": "FGOZnnDTuLl_"
   },
   "outputs": [],
   "source": [
    "xgb_model = xgb.train(params, dtrain, num_rounds)"
   ]
  },
  {
   "cell_type": "markdown",
   "metadata": {
    "colab_type": "text",
    "id": "6mvMs6DgmgrP"
   },
   "source": [
    "Если передать на вход словарь соответствующих данных, можно проследить за качеством обучения на отдельной итерации."
   ]
  },
  {
   "cell_type": "code",
   "execution_count": 0,
   "metadata": {
    "colab": {
     "base_uri": "https://localhost:8080/",
     "height": 884
    },
    "colab_type": "code",
    "id": "66V7jfz3u0kL",
    "outputId": "71374d75-b9ef-476c-c9ab-a28899d1d31b"
   },
   "outputs": [
    {
     "name": "stdout",
     "output_type": "stream",
     "text": [
      "[0]\ttrain-logloss:0.296405\ttrain-auc:0.850765\ttest-logloss:0.332816\ttest-auc:0.785005\n",
      "[1]\ttrain-logloss:0.215727\ttrain-auc:0.909682\ttest-logloss:0.277206\ttest-auc:0.847522\n",
      "[2]\ttrain-logloss:0.164399\ttrain-auc:0.926274\ttest-logloss:0.23202\ttest-auc:0.863815\n",
      "[3]\ttrain-logloss:0.149137\ttrain-auc:0.933749\ttest-logloss:0.225282\ttest-auc:0.877092\n",
      "[4]\ttrain-logloss:0.142013\ttrain-auc:0.950794\ttest-logloss:0.229189\ttest-auc:0.872115\n",
      "[5]\ttrain-logloss:0.134629\ttrain-auc:0.954235\ttest-logloss:0.22992\ttest-auc:0.876995\n",
      "[6]\ttrain-logloss:0.13057\ttrain-auc:0.957434\ttest-logloss:0.231153\ttest-auc:0.875955\n",
      "[7]\ttrain-logloss:0.125609\ttrain-auc:0.962663\ttest-logloss:0.229898\ttest-auc:0.881387\n",
      "[8]\ttrain-logloss:0.122861\ttrain-auc:0.965051\ttest-logloss:0.229369\ttest-auc:0.883061\n",
      "[9]\ttrain-logloss:0.115193\ttrain-auc:0.973675\ttest-logloss:0.235396\ttest-auc:0.886284\n",
      "[10]\ttrain-logloss:0.108494\ttrain-auc:0.978663\ttest-logloss:0.228586\ttest-auc:0.886751\n",
      "[11]\ttrain-logloss:0.104515\ttrain-auc:0.982782\ttest-logloss:0.227106\ttest-auc:0.89049\n",
      "[12]\ttrain-logloss:0.099072\ttrain-auc:0.983198\ttest-logloss:0.223869\ttest-auc:0.892168\n",
      "[13]\ttrain-logloss:0.0927\ttrain-auc:0.98529\ttest-logloss:0.222106\ttest-auc:0.897431\n",
      "[14]\ttrain-logloss:0.090318\ttrain-auc:0.986454\ttest-logloss:0.222472\ttest-auc:0.896697\n",
      "[15]\ttrain-logloss:0.088328\ttrain-auc:0.986949\ttest-logloss:0.226418\ttest-auc:0.892132\n",
      "[16]\ttrain-logloss:0.086577\ttrain-auc:0.98804\ttest-logloss:0.226371\ttest-auc:0.893922\n",
      "[17]\ttrain-logloss:0.082665\ttrain-auc:0.990767\ttest-logloss:0.226144\ttest-auc:0.896217\n",
      "[18]\ttrain-logloss:0.078129\ttrain-auc:0.992056\ttest-logloss:0.230182\ttest-auc:0.896515\n",
      "[19]\ttrain-logloss:0.074464\ttrain-auc:0.993254\ttest-logloss:0.229283\ttest-auc:0.895261\n",
      "[20]\ttrain-logloss:0.071184\ttrain-auc:0.9945\ttest-logloss:0.229706\ttest-auc:0.895414\n",
      "[21]\ttrain-logloss:0.068165\ttrain-auc:0.995597\ttest-logloss:0.234323\ttest-auc:0.895503\n",
      "[22]\ttrain-logloss:0.064579\ttrain-auc:0.995956\ttest-logloss:0.224189\ttest-auc:0.903384\n",
      "[23]\ttrain-logloss:0.0595\ttrain-auc:0.99647\ttest-logloss:0.224828\ttest-auc:0.900262\n",
      "[24]\ttrain-logloss:0.057211\ttrain-auc:0.997208\ttest-logloss:0.227932\ttest-auc:0.900181\n",
      "[25]\ttrain-logloss:0.055356\ttrain-auc:0.997277\ttest-logloss:0.227485\ttest-auc:0.900803\n",
      "[26]\ttrain-logloss:0.053841\ttrain-auc:0.997703\ttest-logloss:0.232098\ttest-auc:0.899504\n",
      "[27]\ttrain-logloss:0.051251\ttrain-auc:0.998326\ttest-logloss:0.230175\ttest-auc:0.902464\n",
      "[28]\ttrain-logloss:0.048065\ttrain-auc:0.999012\ttest-logloss:0.23465\ttest-auc:0.896761\n",
      "[29]\ttrain-logloss:0.046767\ttrain-auc:0.99906\ttest-logloss:0.236469\ttest-auc:0.895987\n",
      "[30]\ttrain-logloss:0.045177\ttrain-auc:0.999174\ttest-logloss:0.236936\ttest-auc:0.89631\n",
      "[31]\ttrain-logloss:0.044275\ttrain-auc:0.999284\ttest-logloss:0.2421\ttest-auc:0.893995\n",
      "[32]\ttrain-logloss:0.042798\ttrain-auc:0.999364\ttest-logloss:0.239932\ttest-auc:0.896382\n",
      "[33]\ttrain-logloss:0.04071\ttrain-auc:0.999549\ttest-logloss:0.238141\ttest-auc:0.897286\n",
      "[34]\ttrain-logloss:0.039809\ttrain-auc:0.999617\ttest-logloss:0.234264\ttest-auc:0.899133\n",
      "[35]\ttrain-logloss:0.037732\ttrain-auc:0.999617\ttest-logloss:0.23441\ttest-auc:0.902109\n",
      "[36]\ttrain-logloss:0.035702\ttrain-auc:0.999862\ttest-logloss:0.238087\ttest-auc:0.900093\n",
      "[37]\ttrain-logloss:0.034541\ttrain-auc:0.999871\ttest-logloss:0.241516\ttest-auc:0.89881\n",
      "[38]\ttrain-logloss:0.033877\ttrain-auc:0.999889\ttest-logloss:0.24077\ttest-auc:0.900012\n",
      "[39]\ttrain-logloss:0.031846\ttrain-auc:0.999963\ttest-logloss:0.245252\ttest-auc:0.896447\n",
      "[40]\ttrain-logloss:0.030013\ttrain-auc:0.99995\ttest-logloss:0.246844\ttest-auc:0.897608\n",
      "[41]\ttrain-logloss:0.028322\ttrain-auc:0.999972\ttest-logloss:0.25254\ttest-auc:0.895447\n",
      "[42]\ttrain-logloss:0.026963\ttrain-auc:0.999985\ttest-logloss:0.254201\ttest-auc:0.89564\n",
      "[43]\ttrain-logloss:0.025474\ttrain-auc:0.999976\ttest-logloss:0.258439\ttest-auc:0.89418\n",
      "[44]\ttrain-logloss:0.024332\ttrain-auc:0.999976\ttest-logloss:0.254378\ttest-auc:0.895802\n",
      "[45]\ttrain-logloss:0.02345\ttrain-auc:0.999997\ttest-logloss:0.256548\ttest-auc:0.895487\n",
      "[46]\ttrain-logloss:0.022618\ttrain-auc:1\ttest-logloss:0.258147\ttest-auc:0.895527\n",
      "[47]\ttrain-logloss:0.021976\ttrain-auc:1\ttest-logloss:0.257327\ttest-auc:0.896035\n",
      "[48]\ttrain-logloss:0.021268\ttrain-auc:1\ttest-logloss:0.25864\ttest-auc:0.894374\n",
      "[49]\ttrain-logloss:0.020539\ttrain-auc:1\ttest-logloss:0.260176\ttest-auc:0.895035\n"
     ]
    }
   ],
   "source": [
    " evals= [(dtrain,'train'),(dtest,'test')] # для оценки качества во время обучения \n",
    "xgb_model =xgb.train(params, dtrain, num_rounds,evals)"
   ]
  },
  {
   "cell_type": "markdown",
   "metadata": {
    "colab_type": "text",
    "id": "zfdEbFXPm6Oo"
   },
   "source": [
    "Или записать результаты в словарь, в данном примере в пустой словарь results."
   ]
  },
  {
   "cell_type": "code",
   "execution_count": 0,
   "metadata": {
    "colab": {
     "base_uri": "https://localhost:8080/",
     "height": 884
    },
    "colab_type": "code",
    "id": "_UNfUxrmGPud",
    "outputId": "e4ccbf9a-b680-493f-e18a-d17c368c7f08"
   },
   "outputs": [
    {
     "name": "stdout",
     "output_type": "stream",
     "text": [
      "[0]\ttrain-logloss:0.296405\ttrain-auc:0.850765\ttest-logloss:0.332816\ttest-auc:0.785005\n",
      "[1]\ttrain-logloss:0.215727\ttrain-auc:0.909682\ttest-logloss:0.277206\ttest-auc:0.847522\n",
      "[2]\ttrain-logloss:0.164399\ttrain-auc:0.926274\ttest-logloss:0.23202\ttest-auc:0.863815\n",
      "[3]\ttrain-logloss:0.149137\ttrain-auc:0.933749\ttest-logloss:0.225282\ttest-auc:0.877092\n",
      "[4]\ttrain-logloss:0.142013\ttrain-auc:0.950794\ttest-logloss:0.229189\ttest-auc:0.872115\n",
      "[5]\ttrain-logloss:0.134629\ttrain-auc:0.954235\ttest-logloss:0.22992\ttest-auc:0.876995\n",
      "[6]\ttrain-logloss:0.13057\ttrain-auc:0.957434\ttest-logloss:0.231153\ttest-auc:0.875955\n",
      "[7]\ttrain-logloss:0.125609\ttrain-auc:0.962663\ttest-logloss:0.229898\ttest-auc:0.881387\n",
      "[8]\ttrain-logloss:0.122861\ttrain-auc:0.965051\ttest-logloss:0.229369\ttest-auc:0.883061\n",
      "[9]\ttrain-logloss:0.115193\ttrain-auc:0.973675\ttest-logloss:0.235396\ttest-auc:0.886284\n",
      "[10]\ttrain-logloss:0.108494\ttrain-auc:0.978663\ttest-logloss:0.228586\ttest-auc:0.886751\n",
      "[11]\ttrain-logloss:0.104515\ttrain-auc:0.982782\ttest-logloss:0.227106\ttest-auc:0.89049\n",
      "[12]\ttrain-logloss:0.099072\ttrain-auc:0.983198\ttest-logloss:0.223869\ttest-auc:0.892168\n",
      "[13]\ttrain-logloss:0.0927\ttrain-auc:0.98529\ttest-logloss:0.222106\ttest-auc:0.897431\n",
      "[14]\ttrain-logloss:0.090318\ttrain-auc:0.986454\ttest-logloss:0.222472\ttest-auc:0.896697\n",
      "[15]\ttrain-logloss:0.088328\ttrain-auc:0.986949\ttest-logloss:0.226418\ttest-auc:0.892132\n",
      "[16]\ttrain-logloss:0.086577\ttrain-auc:0.98804\ttest-logloss:0.226371\ttest-auc:0.893922\n",
      "[17]\ttrain-logloss:0.082665\ttrain-auc:0.990767\ttest-logloss:0.226144\ttest-auc:0.896217\n",
      "[18]\ttrain-logloss:0.078129\ttrain-auc:0.992056\ttest-logloss:0.230182\ttest-auc:0.896515\n",
      "[19]\ttrain-logloss:0.074464\ttrain-auc:0.993254\ttest-logloss:0.229283\ttest-auc:0.895261\n",
      "[20]\ttrain-logloss:0.071184\ttrain-auc:0.9945\ttest-logloss:0.229706\ttest-auc:0.895414\n",
      "[21]\ttrain-logloss:0.068165\ttrain-auc:0.995597\ttest-logloss:0.234323\ttest-auc:0.895503\n",
      "[22]\ttrain-logloss:0.064579\ttrain-auc:0.995956\ttest-logloss:0.224189\ttest-auc:0.903384\n",
      "[23]\ttrain-logloss:0.0595\ttrain-auc:0.99647\ttest-logloss:0.224828\ttest-auc:0.900262\n",
      "[24]\ttrain-logloss:0.057211\ttrain-auc:0.997208\ttest-logloss:0.227932\ttest-auc:0.900181\n",
      "[25]\ttrain-logloss:0.055356\ttrain-auc:0.997277\ttest-logloss:0.227485\ttest-auc:0.900803\n",
      "[26]\ttrain-logloss:0.053841\ttrain-auc:0.997703\ttest-logloss:0.232098\ttest-auc:0.899504\n",
      "[27]\ttrain-logloss:0.051251\ttrain-auc:0.998326\ttest-logloss:0.230175\ttest-auc:0.902464\n",
      "[28]\ttrain-logloss:0.048065\ttrain-auc:0.999012\ttest-logloss:0.23465\ttest-auc:0.896761\n",
      "[29]\ttrain-logloss:0.046767\ttrain-auc:0.99906\ttest-logloss:0.236469\ttest-auc:0.895987\n",
      "[30]\ttrain-logloss:0.045177\ttrain-auc:0.999174\ttest-logloss:0.236936\ttest-auc:0.89631\n",
      "[31]\ttrain-logloss:0.044275\ttrain-auc:0.999284\ttest-logloss:0.2421\ttest-auc:0.893995\n",
      "[32]\ttrain-logloss:0.042798\ttrain-auc:0.999364\ttest-logloss:0.239932\ttest-auc:0.896382\n",
      "[33]\ttrain-logloss:0.04071\ttrain-auc:0.999549\ttest-logloss:0.238141\ttest-auc:0.897286\n",
      "[34]\ttrain-logloss:0.039809\ttrain-auc:0.999617\ttest-logloss:0.234264\ttest-auc:0.899133\n",
      "[35]\ttrain-logloss:0.037732\ttrain-auc:0.999617\ttest-logloss:0.23441\ttest-auc:0.902109\n",
      "[36]\ttrain-logloss:0.035702\ttrain-auc:0.999862\ttest-logloss:0.238087\ttest-auc:0.900093\n",
      "[37]\ttrain-logloss:0.034541\ttrain-auc:0.999871\ttest-logloss:0.241516\ttest-auc:0.89881\n",
      "[38]\ttrain-logloss:0.033877\ttrain-auc:0.999889\ttest-logloss:0.24077\ttest-auc:0.900012\n",
      "[39]\ttrain-logloss:0.031846\ttrain-auc:0.999963\ttest-logloss:0.245252\ttest-auc:0.896447\n",
      "[40]\ttrain-logloss:0.030013\ttrain-auc:0.99995\ttest-logloss:0.246844\ttest-auc:0.897608\n",
      "[41]\ttrain-logloss:0.028322\ttrain-auc:0.999972\ttest-logloss:0.25254\ttest-auc:0.895447\n",
      "[42]\ttrain-logloss:0.026963\ttrain-auc:0.999985\ttest-logloss:0.254201\ttest-auc:0.89564\n",
      "[43]\ttrain-logloss:0.025474\ttrain-auc:0.999976\ttest-logloss:0.258439\ttest-auc:0.89418\n",
      "[44]\ttrain-logloss:0.024332\ttrain-auc:0.999976\ttest-logloss:0.254378\ttest-auc:0.895802\n",
      "[45]\ttrain-logloss:0.02345\ttrain-auc:0.999997\ttest-logloss:0.256548\ttest-auc:0.895487\n",
      "[46]\ttrain-logloss:0.022618\ttrain-auc:1\ttest-logloss:0.258147\ttest-auc:0.895527\n",
      "[47]\ttrain-logloss:0.021976\ttrain-auc:1\ttest-logloss:0.257327\ttest-auc:0.896035\n",
      "[48]\ttrain-logloss:0.021268\ttrain-auc:1\ttest-logloss:0.25864\ttest-auc:0.894374\n",
      "[49]\ttrain-logloss:0.020539\ttrain-auc:1\ttest-logloss:0.260176\ttest-auc:0.895035\n"
     ]
    }
   ],
   "source": [
    "params['eval_metric'] = ['logloss', 'auc']\n",
    "results={}\n",
    "xgb_model = xgb.train(params, dtrain, num_rounds, evals,evals_result=results)"
   ]
  },
  {
   "cell_type": "markdown",
   "metadata": {
    "colab_type": "text",
    "id": "pNGA-vNLnHic"
   },
   "source": [
    "Соответсвующие графики:"
   ]
  },
  {
   "cell_type": "code",
   "execution_count": 0,
   "metadata": {
    "colab": {
     "base_uri": "https://localhost:8080/",
     "height": 283
    },
    "colab_type": "code",
    "id": "467oBX3DGYO2",
    "outputId": "22478541-f912-4e58-a59d-4c5997f9ac6b"
   },
   "outputs": [
    {
     "data": {
      "text/plain": [
       "[<matplotlib.lines.Line2D at 0x7f2d45538b38>]"
      ]
     },
     "execution_count": 31,
     "metadata": {
      "tags": []
     },
     "output_type": "execute_result"
    },
    {
     "data": {
      "image/png": "[encoded data removed]",
      "text/plain": [
       "<Figure size 432x288 with 1 Axes>"
      ]
     },
     "metadata": {
      "tags": []
     },
     "output_type": "display_data"
    }
   ],
   "source": [
    "plt.plot(results['train']['logloss'])\n",
    "plt.plot(results['test']['logloss'])"
   ]
  },
  {
   "cell_type": "code",
   "execution_count": 0,
   "metadata": {
    "colab": {},
    "colab_type": "code",
    "id": "NZVQz5lwu5oi"
   },
   "outputs": [],
   "source": [
    "preds_prob = xgb_model.predict(dtest) #прогнозы для тестовой выборки"
   ]
  },
  {
   "cell_type": "code",
   "execution_count": 0,
   "metadata": {
    "colab": {
     "base_uri": "https://localhost:8080/",
     "height": 35
    },
    "colab_type": "code",
    "id": "TjHUfTFFvooR",
    "outputId": "94fab753-9a57-4743-948c-c68f8bf3108b"
   },
   "outputs": [
    {
     "name": "stdout",
     "output_type": "stream",
     "text": [
      "Accuracy and F1 on the test set are: 0.935 and 0.749\n"
     ]
    }
   ],
   "source": [
    "predicted_labels = preds_prob > 0.5\n",
    "print(\"Accuracy and F1 on the test set are: {} and {}\".format(\n",
    "    round(accuracy_score(y_test, predicted_labels), 3),\n",
    "    round(f1_score(y_test, predicted_labels), 3)))"
   ]
  },
  {
   "cell_type": "markdown",
   "metadata": {
    "colab_type": "text",
    "id": "qDXcOJf0wLVP"
   },
   "source": [
    "**Важность признаков**\n",
    "\n",
    "F score при оценке важности признаков в Xgboost (не путать с F1 score как метрики качества классификации) вычисляется на основе того, как часто разбиение делалось по данному признаку."
   ]
  },
  {
   "cell_type": "code",
   "execution_count": 0,
   "metadata": {
    "colab": {
     "base_uri": "https://localhost:8080/",
     "height": 295
    },
    "colab_type": "code",
    "id": "Dt7oj0Wqv4Hk",
    "outputId": "18aa41d7-aba1-4459-9198-591a331846e7"
   },
   "outputs": [
    {
     "data": {
      "image/png": "[encoded data removed]",
      "text/plain": [
       "<Figure size 432x288 with 1 Axes>"
      ]
     },
     "metadata": {
      "tags": []
     },
     "output_type": "display_data"
    }
   ],
   "source": [
    "xgb.plot_importance(xgb_model);"
   ]
  },
  {
   "cell_type": "code",
   "execution_count": 0,
   "metadata": {
    "colab": {
     "base_uri": "https://localhost:8080/",
     "height": 277
    },
    "colab_type": "code",
    "id": "4yJ79iPjv79v",
    "outputId": "9da5c9a5-aa65-4539-d4c5-018242597a25"
   },
   "outputs": [
    {
     "data": {
      "text/plain": [
       "{'Account length': 11,\n",
       " 'Area code': 2,\n",
       " 'Customer service calls': 17,\n",
       " 'International plan': 13,\n",
       " 'Number vmail messages': 7,\n",
       " 'State': 16,\n",
       " 'Total day calls': 22,\n",
       " 'Total day minutes': 52,\n",
       " 'Total eve calls': 23,\n",
       " 'Total eve minutes': 49,\n",
       " 'Total intl calls': 10,\n",
       " 'Total intl minutes': 32,\n",
       " 'Total night calls': 19,\n",
       " 'Total night minutes': 34,\n",
       " 'Voice mail plan': 6}"
      ]
     },
     "execution_count": 90,
     "metadata": {
      "tags": []
     },
     "output_type": "execute_result"
    }
   ],
   "source": [
    "importances = xgb_model.get_fscore()\n",
    "importances"
   ]
  },
  {
   "cell_type": "markdown",
   "metadata": {
    "colab_type": "text",
    "id": "DzAOdkszwl-s"
   },
   "source": [
    "## **Борьба с недообучением и переобучением**"
   ]
  },
  {
   "cell_type": "markdown",
   "metadata": {
    "colab_type": "text",
    "id": "xh66TqdgwyC7"
   },
   "source": [
    "Построим кривые вадидации Xgboost по числу деревьев в задаче классификации синтетических данных."
   ]
  },
  {
   "cell_type": "code",
   "execution_count": 0,
   "metadata": {
    "colab": {},
    "colab_type": "code",
    "id": "xjI89VAnwt-Q"
   },
   "outputs": [],
   "source": [
    "from sklearn.model_selection import validation_curve\n",
    "from sklearn.model_selection import StratifiedKFold\n",
    "from sklearn.datasets import make_classification\n",
    "from scipy.sparse import vstack\n",
    "from xgboost.sklearn import XGBClassifier"
   ]
  },
  {
   "cell_type": "code",
   "execution_count": 0,
   "metadata": {
    "colab": {},
    "colab_type": "code",
    "id": "F0jHdrfTw-FU"
   },
   "outputs": [],
   "source": [
    "X, y = make_classification(n_samples=1000, n_features=20, n_informative=8, \n",
    "                           n_redundant=3, n_repeated=2, random_state=42)\n",
    "cv = StratifiedKFold(n_splits=10, shuffle=True, random_state=42) #Будем проводить 10-кратную стратифицированную кросс-валидацию. "
   ]
  },
  {
   "cell_type": "code",
   "execution_count": 0,
   "metadata": {
    "colab": {},
    "colab_type": "code",
    "id": "tSoMpZ_Gxabq"
   },
   "outputs": [],
   "source": [
    "default_params = {\n",
    "    'objective': 'binary:logistic',\n",
    "    'max_depth': 1,\n",
    "    'learning_rate': 0.3,\n",
    "    'silent': True\n",
    "}\n",
    "\n",
    "n_estimators_range = np.linspace(1, 200, 10).astype('int')\n",
    "\n",
    "train_scores, test_scores = validation_curve(\n",
    "    xgb.XGBClassifier(**default_params),\n",
    "    X, y,\n",
    "    param_name = 'n_estimators',\n",
    "    param_range = n_estimators_range,\n",
    "    cv=cv,\n",
    "    scoring='accuracy'\n",
    ")"
   ]
  },
  {
   "cell_type": "code",
   "execution_count": 0,
   "metadata": {
    "colab": {
     "base_uri": "https://localhost:8080/",
     "height": 573
    },
    "colab_type": "code",
    "id": "eLx1ailPxzdg",
    "outputId": "bb2f1e48-de1a-4968-a64e-0779ec535309"
   },
   "outputs": [
    {
     "data": {
      "image/png": "[encoded data removed]",
      "text/plain": [
       "<Figure size 1000x600 with 1 Axes>"
      ]
     },
     "metadata": {
      "tags": []
     },
     "output_type": "display_data"
    },
    {
     "name": "stdout",
     "output_type": "stream",
     "text": [
      "Best cross-validation result (0.75) obtained for 45 trees\n"
     ]
    }
   ],
   "source": [
    "train_scores_mean = np.mean(train_scores, axis=1)\n",
    "train_scores_std = np.std(train_scores, axis=1)\n",
    "test_scores_mean = np.mean(test_scores, axis=1)\n",
    "test_scores_std = np.std(test_scores, axis=1)\n",
    "\n",
    "fig = plt.figure(figsize=(10, 6), dpi=100)\n",
    "\n",
    "plt.title(\"Validation Curve with XGBoost (eta = 0.3)\")\n",
    "plt.xlabel(\"number of trees\")\n",
    "plt.ylabel(\"Accuracy\")\n",
    "plt.ylim(0.5, 1.01)\n",
    "\n",
    "plt.plot(n_estimators_range,\n",
    "             train_scores_mean,\n",
    "             label=\"Training score\",\n",
    "             color=\"r\")\n",
    "\n",
    "plt.plot(n_estimators_range,\n",
    "             test_scores_mean, \n",
    "             label=\"Cross-validation score\",\n",
    "             color=\"g\")\n",
    "\n",
    "plt.fill_between(n_estimators_range, \n",
    "                 train_scores_mean - train_scores_std,\n",
    "                 train_scores_mean + train_scores_std, \n",
    "                 alpha=0.2, color=\"r\")\n",
    "\n",
    "plt.fill_between(n_estimators_range,\n",
    "                 test_scores_mean - test_scores_std,\n",
    "                 test_scores_mean + test_scores_std,\n",
    "                 alpha=0.2, color=\"g\")\n",
    "\n",
    "plt.axhline(y=1, color='k', ls='dashed')\n",
    "\n",
    "plt.legend(loc=\"best\")\n",
    "plt.show()\n",
    "\n",
    "i = np.argmax(test_scores_mean)\n",
    "print(\"Best cross-validation result ({0:.2f}) obtained for {1} trees\".format(test_scores_mean[i], \n",
    "                                                                             n_estimators_range[i]))"
   ]
  },
  {
   "cell_type": "markdown",
   "metadata": {
    "colab_type": "text",
    "id": "fYECvnwleYfb"
   },
   "source": [
    "**Что заметно:**\n",
    "\n",
    "- Доля правильных ответов на обучении продолжает расти, хотя на валидации - уже нет\n",
    "- Когда деревьев меньше 25 разброс (variance) ошибки невелик, но и смещение (bias) велико\n",
    "- Начиная с 25 деревьев, разброс ошибки начинает расти\n",
    "- Модель довольно стабильна: дальнейшее увеличение ее сложности не приводит к увеличению разброса ошибки.\n",
    "\n",
    "Оптимальное в данном случае сочетание разброса и смещение наблюдается примерно при 50 итерациях. Хотя разброс все же велик."
   ]
  },
  {
   "cell_type": "markdown",
   "metadata": {
    "colab_type": "text",
    "id": "rf112Pt_egsR"
   },
   "source": [
    "### Что можно улучшить?\n",
    "\n",
    "#### Снижение разброса\n",
    "Для уменьшения сложности модели можно:\n",
    "- использовать меньше признаков (например, отбор)\n",
    "- использовать больше объектов (например, искусственно созданных)\n",
    "- увеличить регуляризацию\n",
    "\n",
    "В случае XGBoost можно:\n",
    "- уменьшать максимальную глубину деревьев(`max_depth`)\n",
    "- увеличивать значение параметра `min_child_weight`\n",
    "- увеличивать значение параметра `gamma`\n",
    "- добавлять больше \"случайности\" за счет параметров `subsample` и `colsample_bytree`\n",
    "- увеличивать значение паарметров регуляризации `lambda` и `alpha`\n",
    "\n",
    "#### Снижение смещения\n",
    "Если модель слишком простая, можно:\n",
    "- добавлять больше признаков (например, изобретать их),\n",
    "- усложнять модель\n",
    "- уменьшать регуляризацию\n",
    "\n",
    "В случае XGBoost можно:\n",
    "- увеличивать максимальную глубину деревьев(`max_depth`)\n",
    "- уменьшать значение параметра `min_child_weight`\n",
    "- уменьшать значение параметра `gamma`\n",
    "- уменьшать значение параметров регуляризации `lambda` и `alpha`\n",
    "\n",
    "**Попробуем немного настроить параметры. Будем для построения каждого дерева использовать в среднем 70% случайно выбранных объектов и 60% случайно выбранных признаков. Это уменьшит разброс ошибки. Для уменьшения смещения увеличим на 1 максимальную глубину деревьев.**"
   ]
  },
  {
   "cell_type": "code",
   "execution_count": 0,
   "metadata": {
    "colab": {},
    "colab_type": "code",
    "id": "cpMiGLDvEPUW"
   },
   "outputs": [],
   "source": [
    "new_params = {\n",
    "    'objective': 'binary:logistic',\n",
    "    'max_depth': 2, # changed\n",
    "    'learning_rate': 0.3,\n",
    "    'silent': True,\n",
    "    'colsample_bytree': 0.6, # added\n",
    "    'subsample': 0.7, # added\n",
    "    'seed': 42\n",
    "}\n",
    "\n",
    "n_estimators_range = np.linspace(1, 200, 10).astype('int')\n",
    "\n",
    "train_scores, test_scores = validation_curve(\n",
    "    xgb.XGBClassifier(**new_params),\n",
    "    X, y,\n",
    "    param_name = 'n_estimators',\n",
    "    param_range = n_estimators_range,\n",
    "    cv=cv,\n",
    "    scoring='accuracy'\n",
    ")"
   ]
  },
  {
   "cell_type": "code",
   "execution_count": 0,
   "metadata": {
    "colab": {
     "base_uri": "https://localhost:8080/",
     "height": 573
    },
    "colab_type": "code",
    "id": "PZK4rRM3ExCI",
    "outputId": "30ac9255-82e8-428a-ae1a-2bb5d62a8e41"
   },
   "outputs": [
    {
     "data": {
      "image/png": "[encoded data removed]",
      "text/plain": [
       "<Figure size 1000x600 with 1 Axes>"
      ]
     },
     "metadata": {
      "tags": []
     },
     "output_type": "display_data"
    },
    {
     "name": "stdout",
     "output_type": "stream",
     "text": [
      "Best cross-validation result (0.85) obtained for 177 trees\n"
     ]
    }
   ],
   "source": [
    "train_scores_mean = np.mean(train_scores, axis=1)\n",
    "train_scores_std = np.std(train_scores, axis=1)\n",
    "test_scores_mean = np.mean(test_scores, axis=1)\n",
    "test_scores_std = np.std(test_scores, axis=1)\n",
    "\n",
    "fig = plt.figure(figsize=(10, 6), dpi=100)\n",
    "\n",
    "plt.title(\"Validation Curve with XGBoost (eta = 0.3)\")\n",
    "plt.xlabel(\"number of trees\")\n",
    "plt.ylabel(\"Accuracy\")\n",
    "plt.ylim(0.5, 1.01)\n",
    "\n",
    "plt.plot(n_estimators_range,\n",
    "             train_scores_mean,\n",
    "             label=\"Training score\",\n",
    "             color=\"r\")\n",
    "\n",
    "plt.plot(n_estimators_range,\n",
    "             test_scores_mean, \n",
    "             label=\"Cross-validation score\",\n",
    "             color=\"g\")\n",
    "\n",
    "plt.fill_between(n_estimators_range, \n",
    "                 train_scores_mean - train_scores_std,\n",
    "                 train_scores_mean + train_scores_std, \n",
    "                 alpha=0.2, color=\"r\")\n",
    "\n",
    "plt.fill_between(n_estimators_range,\n",
    "                 test_scores_mean - test_scores_std,\n",
    "                 test_scores_mean + test_scores_std,\n",
    "                 alpha=0.2, color=\"g\")\n",
    "\n",
    "plt.axhline(y=1, color='k', ls='dashed')\n",
    "\n",
    "plt.legend(loc=\"best\")\n",
    "plt.show()\n",
    "\n",
    "i = np.argmax(test_scores_mean)\n",
    "print(\"Best cross-validation result ({0:.2f}) obtained for {1} trees\".format(test_scores_mean[i], \n",
    "                                                                             n_estimators_range[i]))"
   ]
  },
  {
   "cell_type": "markdown",
   "metadata": {
    "colab_type": "text",
    "id": "R1tcjbV7efMO"
   },
   "source": []
  }
 ],
 "metadata": {
  "colab": {
   "name": "Seminar12.ipynb",
   "provenance": []
  },
  "kernelspec": {
   "display_name": "Python 3",
   "language": "python",
   "name": "python3"
  },
  "language_info": {
   "codemirror_mode": {
    "name": "ipython",
    "version": 3
   },
   "file_extension": ".py",
   "mimetype": "text/x-python",
   "name": "python",
   "nbconvert_exporter": "python",
   "pygments_lexer": "ipython3",
   "version": "3.7.4"
  }
 },
 "nbformat": 4,
 "nbformat_minor": 1
}
