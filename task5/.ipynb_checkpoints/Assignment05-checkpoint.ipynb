{
 "cells": [
  {
   "cell_type": "code",
   "execution_count": 4,
   "metadata": {
    "colab": {},
    "colab_type": "code",
    "id": "3bvBeAaGpHqG"
   },
   "outputs": [],
   "source": [
    "import numpy as np\n",
    "import pandas as pd\n",
    "\n",
    "%matplotlib inline\n",
    "import matplotlib.pyplot as plt\n",
    "\n",
    "import warnings\n",
    "warnings.filterwarnings('ignore')"
   ]
  },
  {
   "cell_type": "markdown",
   "metadata": {
    "colab_type": "text",
    "id": "Vt5vGPTGpHqU"
   },
   "source": [
    "##  Работа с текстовыми данными \n",
    "Будем работать с данными с семинара, но использовать все категории текстов:"
   ]
  },
  {
   "cell_type": "code",
   "execution_count": 5,
   "metadata": {
    "colab": {},
    "colab_type": "code",
    "id": "POCz1yCZpHqX"
   },
   "outputs": [],
   "source": [
    "from sklearn.datasets import fetch_20newsgroups\n",
    "twenty_train = fetch_20newsgroups(subset='train',shuffle=True,random_state=7)\n",
    "twenty_test = fetch_20newsgroups(subset='test', shuffle=True,random_state=7)#"
   ]
  },
  {
   "cell_type": "code",
   "execution_count": 6,
   "metadata": {
    "colab": {},
    "colab_type": "code",
    "id": "TRfuFszfpHqh"
   },
   "outputs": [],
   "source": [
    "X_train=twenty_train.data\n",
    "X_test=twenty_test.data\n",
    "y_train=twenty_train.target\n",
    "y_test=twenty_test.target"
   ]
  },
  {
   "cell_type": "markdown",
   "metadata": {
    "colab_type": "text",
    "id": "EAxhQFCopHqp"
   },
   "source": [
    "### 1. Мешок слов (1 балл)\n",
    "Воспользуйтесь мешком слов  для признакового описания документа. Постройте логистическую регрессию с параметрами по умолчанию.  Какова доля верных предсказаний на тестовой выборке?"
   ]
  },
  {
   "cell_type": "code",
   "execution_count": 7,
   "metadata": {
    "colab": {},
    "colab_type": "code",
    "id": "6genXGv1pHqr"
   },
   "outputs": [],
   "source": [
    "from sklearn.feature_extraction.text import CountVectorizer\n",
    "from sklearn.feature_extraction.text import TfidfTransformer\n",
    "\n",
    "\n",
    "from sklearn.pipeline import Pipeline\n",
    "from sklearn.linear_model import LogisticRegression\n",
    "from sklearn import metrics"
   ]
  },
  {
   "cell_type": "code",
   "execution_count": 8,
   "metadata": {},
   "outputs": [
    {
     "data": {
      "text/plain": [
       "LogisticRegression(C=1.0, class_weight=None, dual=False, fit_intercept=True,\n",
       "                   intercept_scaling=1, l1_ratio=None, max_iter=100,\n",
       "                   multi_class='warn', n_jobs=None, penalty='l2',\n",
       "                   random_state=None, solver='warn', tol=0.0001, verbose=0,\n",
       "                   warm_start=False)"
      ]
     },
     "execution_count": 8,
     "metadata": {},
     "output_type": "execute_result"
    }
   ],
   "source": [
    "count_vect = CountVectorizer() \n",
    "\n",
    "X_train_counts = count_vect.fit_transform(X_train)\n",
    "X_test_counts = count_vect.transform(X_test)\n",
    "\n",
    "lr = LogisticRegression()\n",
    "lr.fit(X_train_counts, y_train)\n"
   ]
  },
  {
   "cell_type": "code",
   "execution_count": 9,
   "metadata": {},
   "outputs": [
    {
     "name": "stdout",
     "output_type": "stream",
     "text": [
      "Accuracy = 0.8069569835369091\n"
     ]
    }
   ],
   "source": [
    "y_pred_counts = lr.predict(X_test_counts)\n",
    "print ('Accuracy =', metrics.accuracy_score(y_test, y_pred_counts))"
   ]
  },
  {
   "cell_type": "markdown",
   "metadata": {
    "colab_type": "text",
    "id": "JBT8qtewpHqz"
   },
   "source": [
    "### 2. TF-IDF (1 балл)\n",
    "Теперь в качестве признаков возьмите величины tf-idf. Как поменялось качество классификатора?"
   ]
  },
  {
   "cell_type": "code",
   "execution_count": 10,
   "metadata": {},
   "outputs": [
    {
     "data": {
      "text/plain": [
       "LogisticRegression(C=1.0, class_weight=None, dual=False, fit_intercept=True,\n",
       "                   intercept_scaling=1, l1_ratio=None, max_iter=100,\n",
       "                   multi_class='warn', n_jobs=None, penalty='l2',\n",
       "                   random_state=None, solver='warn', tol=0.0001, verbose=0,\n",
       "                   warm_start=False)"
      ]
     },
     "execution_count": 10,
     "metadata": {},
     "output_type": "execute_result"
    }
   ],
   "source": [
    "tfidf_transformer = TfidfTransformer()\n",
    "\n",
    "X_train_tfidf = tfidf_transformer.fit_transform(X_train_counts)\n",
    "X_test_tfidf = tfidf_transformer.transform(X_test_counts)\n",
    "\n",
    "lr.fit(X_train_tfidf, y_train)"
   ]
  },
  {
   "cell_type": "code",
   "execution_count": 11,
   "metadata": {},
   "outputs": [
    {
     "name": "stdout",
     "output_type": "stream",
     "text": [
      "Accuracy = 0.8279341476367499\n"
     ]
    }
   ],
   "source": [
    "y_pred_tfidf = lr.predict(X_test_tfidf)\n",
    "print ('Accuracy =', metrics.accuracy_score(y_test, y_pred_tfidf))"
   ]
  },
  {
   "cell_type": "markdown",
   "metadata": {
    "colab_type": "text",
    "id": "UiW5o3d0pHq1"
   },
   "source": [
    "### 3.  Матрица ошибок (1 балл)\n",
    "Выведите матрицу ошибок. Определите три пары категорий, которые модель путает чаще всего.  "
   ]
  },
  {
   "cell_type": "code",
   "execution_count": 12,
   "metadata": {},
   "outputs": [
    {
     "name": "stdout",
     "output_type": "stream",
     "text": [
      "[[236   2   0   0   1   1   3   0   3   3   1   1   2   9   2  35   3   4\n",
      "    1  12]\n",
      " [  2 304  13   8   8  19   7   1   0   1   0   4  10   1   5   2   1   1\n",
      "    1   1]\n",
      " [  1  21 294  31  12  10   2   2   1   5   0   1   1   2   4   2   0   0\n",
      "    4   1]\n",
      " [  0  12  24 283  22   2  13   3   1   1   1   1  24   0   4   0   0   0\n",
      "    0   1]\n",
      " [  0   5   6  21 319   1  11   1   1   5   1   0  10   0   1   0   0   0\n",
      "    3   0]\n",
      " [  0  41  38   5   4 292   3   0   1   1   0   1   3   2   4   0   0   0\n",
      "    0   0]\n",
      " [  0   3   2  12   7   0 351   3   2   1   1   0   7   1   0   0   0   0\n",
      "    0   0]\n",
      " [  0   1   1   4   0   2  12 352   4   2   0   0  13   1   1   0   1   0\n",
      "    2   0]\n",
      " [  0   0   0   0   0   0   6  10 379   2   0   0   1   0   0   0   0   0\n",
      "    0   0]\n",
      " [  1   0   0   0   2   0   6   1   0 368  15   0   2   0   0   0   1   0\n",
      "    0   1]\n",
      " [  0   0   0   1   3   1   2   0   0   9 382   0   0   0   0   0   0   0\n",
      "    1   0]\n",
      " [  1   7   3   0   3   4   5   2   1   5   0 352   5   0   1   0   4   0\n",
      "    3   0]\n",
      " [  1   9   5  20   9   4   8   5   2   3   0  10 307   4   5   1   0   0\n",
      "    0   0]\n",
      " [  4  10   1   2   2   2  13   1   5   4   0   0  11 331   0   3   1   3\n",
      "    3   0]\n",
      " [  0  11   0   0   2   1   2   1   0   0   1   0   2   6 363   1   2   0\n",
      "    2   0]\n",
      " [  4   4   2   1   0   1   1   0   0   2   0   0   2   1   3 371   0   0\n",
      "    0   6]\n",
      " [  0   0   0   1   1   0   5   3   2   4   1   5   1   4   2   0 326   1\n",
      "    7   1]\n",
      " [  7   2   0   0   0   9   1   1   1   3   1   1   0   0   0   3   3 333\n",
      "   11   0]\n",
      " [  1   2   0   0   1   1   4   1   2   0   0   2   2   4   8   4  97   2\n",
      "  179   0]\n",
      " [ 38   4   0   0   0   0   4   0   0   2   2   0   0   8   3  48  17   2\n",
      "    9 114]]\n"
     ]
    }
   ],
   "source": [
    "cm = metrics.confusion_matrix(y_test,y_pred_tfidf)\n",
    "print(cm)"
   ]
  },
  {
   "cell_type": "code",
   "execution_count": 13,
   "metadata": {},
   "outputs": [
    {
     "name": "stdout",
     "output_type": "stream",
     "text": [
      "97 18 16\n"
     ]
    }
   ],
   "source": [
    "maximum1 = 0\n",
    "max1_i=0\n",
    "max1_j=0\n",
    "for i in range(cm.shape[0]):\n",
    "    for j in range (cm.shape[1]):\n",
    "        if (i != j):\n",
    "            if (cm[i][j] > maximum1):\n",
    "                maximum1= cm[i][j]\n",
    "                max1_i=i\n",
    "                max1_j=j\n",
    "\n",
    "print(maximum1, max1_i, max1_j)\n",
    "        \n",
    "        "
   ]
  },
  {
   "cell_type": "code",
   "execution_count": 14,
   "metadata": {},
   "outputs": [
    {
     "name": "stdout",
     "output_type": "stream",
     "text": [
      "48 19 15\n"
     ]
    }
   ],
   "source": [
    "maximum2 = 0\n",
    "max2_i=0\n",
    "max2_j=0\n",
    "for i in range(cm.shape[0]):\n",
    "    for j in range (cm.shape[1]):\n",
    "        if (i != j ):\n",
    "            if (cm[i][j] > maximum2 and cm[i][j] != maximum1 ):\n",
    "                maximum2= cm[i][j]\n",
    "                max2_i=i\n",
    "                max2_j=j\n",
    "\n",
    "print(maximum2, max2_i, max2_j)"
   ]
  },
  {
   "cell_type": "code",
   "execution_count": 15,
   "metadata": {},
   "outputs": [
    {
     "name": "stdout",
     "output_type": "stream",
     "text": [
      "41 5 1\n"
     ]
    }
   ],
   "source": [
    "maximum3 = 0\n",
    "max3_i=0\n",
    "max3_j=0\n",
    "for i in range(cm.shape[0]):\n",
    "    for j in range (cm.shape[1]):\n",
    "        if (i != j ):\n",
    "            if (cm[i][j] > maximum3 and cm[i][j] != maximum1 and cm[i][j] != maximum2  ):\n",
    "                maximum3= cm[i][j]\n",
    "                max3_i=i\n",
    "                max3_j=j\n",
    "\n",
    "print(maximum3, max3_i, max3_j)"
   ]
  },
  {
   "cell_type": "markdown",
   "metadata": {},
   "source": [
    "##### Чаще всего алгоритм путает следующие три пары категорий: 18-16, 19-15, 5-1  \n",
    "(Наибольше недиагональные элементы матрицы ошибок)"
   ]
  },
  {
   "cell_type": "markdown",
   "metadata": {
    "colab_type": "text",
    "id": "dJoeJxqrpHq3"
   },
   "source": [
    "### 4.Определение наиболее важных признаков (слов) (2 балла)\n",
    "Выберите категорию. Для гиперплоскости, отделяющей класс этой категории от остальных, определите 5 признаков, которые имеют наибольшие коэффициенты в линейной модели и 5 признаков, которые имеют наименьшие коэффициенты:\n",
    "* определите слова, котором соответствуют наибольшие и наименьшие коэффициенты в линейной модели;\n",
    "* напишите  функцию поиска ключа в словаре по заданному листу значений. "
   ]
  },
  {
   "cell_type": "code",
   "execution_count": 16,
   "metadata": {
    "scrolled": true
   },
   "outputs": [
    {
     "data": {
      "text/html": [
       "<div>\n",
       "<style scoped>\n",
       "    .dataframe tbody tr th:only-of-type {\n",
       "        vertical-align: middle;\n",
       "    }\n",
       "\n",
       "    .dataframe tbody tr th {\n",
       "        vertical-align: top;\n",
       "    }\n",
       "\n",
       "    .dataframe thead th {\n",
       "        text-align: right;\n",
       "    }\n",
       "</style>\n",
       "<table border=\"1\" class=\"dataframe\">\n",
       "  <thead>\n",
       "    <tr style=\"text-align: right;\">\n",
       "      <th></th>\n",
       "      <th>Feature name</th>\n",
       "      <th>Feature weight</th>\n",
       "    </tr>\n",
       "  </thead>\n",
       "  <tbody>\n",
       "    <tr>\n",
       "      <td>72154</td>\n",
       "      <td>keith</td>\n",
       "      <td>4.832775</td>\n",
       "    </tr>\n",
       "    <tr>\n",
       "      <td>30101</td>\n",
       "      <td>atheism</td>\n",
       "      <td>4.167555</td>\n",
       "    </tr>\n",
       "    <tr>\n",
       "      <td>30105</td>\n",
       "      <td>atheists</td>\n",
       "      <td>3.808081</td>\n",
       "    </tr>\n",
       "    <tr>\n",
       "      <td>37469</td>\n",
       "      <td>caltech</td>\n",
       "      <td>3.024540</td>\n",
       "    </tr>\n",
       "    <tr>\n",
       "      <td>68620</td>\n",
       "      <td>islamic</td>\n",
       "      <td>2.973565</td>\n",
       "    </tr>\n",
       "  </tbody>\n",
       "</table>\n",
       "</div>"
      ],
      "text/plain": [
       "      Feature name  Feature weight\n",
       "72154        keith        4.832775\n",
       "30101      atheism        4.167555\n",
       "30105     atheists        3.808081\n",
       "37469      caltech        3.024540\n",
       "68620      islamic        2.973565"
      ]
     },
     "execution_count": 16,
     "metadata": {},
     "output_type": "execute_result"
    }
   ],
   "source": [
    "w = lr.coef_[0] #Выбрали нулевую категорию\n",
    "w = pd.DataFrame({'Feature name': list(count_vect.get_feature_names()),'Feature weight':w},columns = ['Feature name','Feature weight'])\n",
    "\n",
    "w_max = w.sort_values(by='Feature weight',ascending=False).head(5) # 5 слов с наибольшими коэффициентами \n",
    "w_max"
   ]
  },
  {
   "cell_type": "code",
   "execution_count": 17,
   "metadata": {},
   "outputs": [
    {
     "data": {
      "text/html": [
       "<div>\n",
       "<style scoped>\n",
       "    .dataframe tbody tr th:only-of-type {\n",
       "        vertical-align: middle;\n",
       "    }\n",
       "\n",
       "    .dataframe tbody tr th {\n",
       "        vertical-align: top;\n",
       "    }\n",
       "\n",
       "    .dataframe thead th {\n",
       "        text-align: right;\n",
       "    }\n",
       "</style>\n",
       "<table border=\"1\" class=\"dataframe\">\n",
       "  <thead>\n",
       "    <tr style=\"text-align: right;\">\n",
       "      <th></th>\n",
       "      <th>Feature name</th>\n",
       "      <th>Feature weight</th>\n",
       "    </tr>\n",
       "  </thead>\n",
       "  <tbody>\n",
       "    <tr>\n",
       "      <td>37219</td>\n",
       "      <td>ca</td>\n",
       "      <td>-1.306474</td>\n",
       "    </tr>\n",
       "    <tr>\n",
       "      <td>124616</td>\n",
       "      <td>with</td>\n",
       "      <td>-0.960020</td>\n",
       "    </tr>\n",
       "    <tr>\n",
       "      <td>124434</td>\n",
       "      <td>windows</td>\n",
       "      <td>-0.915352</td>\n",
       "    </tr>\n",
       "    <tr>\n",
       "      <td>119737</td>\n",
       "      <td>use</td>\n",
       "      <td>-0.900256</td>\n",
       "    </tr>\n",
       "    <tr>\n",
       "      <td>119714</td>\n",
       "      <td>usa</td>\n",
       "      <td>-0.855127</td>\n",
       "    </tr>\n",
       "  </tbody>\n",
       "</table>\n",
       "</div>"
      ],
      "text/plain": [
       "       Feature name  Feature weight\n",
       "37219            ca       -1.306474\n",
       "124616         with       -0.960020\n",
       "124434      windows       -0.915352\n",
       "119737          use       -0.900256\n",
       "119714          usa       -0.855127"
      ]
     },
     "execution_count": 17,
     "metadata": {},
     "output_type": "execute_result"
    }
   ],
   "source": [
    "w_min= w.sort_values(by='Feature weight',ascending=True).head(5) # 5 слов с наименьшими коэффициентами \n",
    "w_min"
   ]
  },
  {
   "cell_type": "code",
   "execution_count": null,
   "metadata": {},
   "outputs": [],
   "source": []
  }
 ],
 "metadata": {
  "colab": {
   "name": "Assignment05.ipynb",
   "provenance": []
  },
  "kernelspec": {
   "display_name": "Python 3",
   "language": "python",
   "name": "python3"
  },
  "language_info": {
   "codemirror_mode": {
    "name": "ipython",
    "version": 3
   },
   "file_extension": ".py",
   "mimetype": "text/x-python",
   "name": "python",
   "nbconvert_exporter": "python",
   "pygments_lexer": "ipython3",
   "version": "3.7.4"
  }
 },
 "nbformat": 4,
 "nbformat_minor": 1
}
