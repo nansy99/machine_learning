{
 "cells": [
  {
   "cell_type": "markdown",
   "metadata": {
    "colab_type": "text",
    "id": "dYXuoOphiq2Y"
   },
   "source": [
    "\n",
    "# Линейная классификация"
   ]
  },
  {
   "cell_type": "code",
   "execution_count": 1,
   "metadata": {
    "colab": {},
    "colab_type": "code",
    "id": "_rnHYhvaiq2c"
   },
   "outputs": [],
   "source": [
    "import numpy as np\n",
    "import pandas as pd\n",
    "\n",
    "%matplotlib inline\n",
    "import matplotlib.pyplot as plt\n",
    "\n",
    "from sklearn.model_selection import train_test_split"
   ]
  },
  {
   "cell_type": "markdown",
   "metadata": {
    "colab_type": "text",
    "id": "6EUkUuJEiq2h"
   },
   "source": [
    "##  Постановка задачи классификации\n",
    "\n",
    "Пусть задана обучающая выборка $X = \\left\\{ \\left( x_i, y_i \\right) \\right\\}_{i=1}^N, x_i \\in \\mathbb{X}, y_i \\in \\mathbb{Y},$ — $N$ пар объект-ответ, где\n",
    "$\\mathbb{X}$ — пространство объектов,\n",
    "$\\mathbb{Y}$ — пространство ответов.\n",
    "\n",
    "Задача классификации отличается о задачи восстановления регрессии тем, что в данном случае пространство ответов конечно.\n",
    "Мы будем рассматривать задачу бинарной классификации (то есть разделения объектов на 2 группы) и полагать $\\mathbb{Y} = \\{-1, +1\\}.$\n",
    "\n",
    "\n",
    "### Линейная модель\n",
    "\n",
    "В случае классификации формула для ответа на объекте $x$ видоизменяется по сравнению с линейной регрессией :\n",
    "$$a(x) = sign(w_0 \\cdot 1 + w_1 x_1 + \\dots w_d x_d) = sign(\\sum_{j = 0}^d w_j x_j) = sign(\\langle w, x \\rangle).$$\n",
    "\n",
    "Множество точек $\\langle w, x\\rangle = 0$ является гиперплоскостью и делит пространство на 2 части по разные стороны от этой самой гиперплоскости. При этом объекты, расположенные по разные стороны от неё, полученный классификатор относит к различным классам в зависимости от знака скалярного произведения.\n",
    "\n",
    "<tr>\n",
    "<td> <img src=\"cube.png\" alt=\"Drawing\" style=\"width: 350px;\"/> </td>\n",
    "</tr>\n",
    "\n",
    "### Функционал\n",
    "\n",
    "В линейной классификации функционал (доля неверных классификаций) можно записать в следующем виде:\n",
    "\n",
    "$$Q(w, X) = \\frac{1}{N} \\sum_{i = 1}^N [a(x_i) \\ne y_i] \\to \\min_w.$$\n",
    "\n",
    "В этом функционале слагаемое $[a(x_i) \\ne y_i]$ отвечает за то, была ли допущена алгоритмом $a(\\cdot)$ ошибка на объекте $x_i$.\n",
    " \n",
    " Функционал можно переписать в следующем виде:\n",
    "$$Q(w, X) = \\frac{1}{N} \\sum_{i = 1}^N [y_i \\langle w, x_i \\rangle  < 0] \\to \\min_w.$$\n",
    "\n",
    "Величина $M_i = y_i \\langle w, x_i \\rangle$ называется **отступом** объекта $x_i$. \n",
    "\n",
    "Тем не менее, получившийся функционал не получится оптимизировать градиентными методами. Поэтому рассмотрим пороговую функцию потерь для одного объекта $L(M) = [M < 0],$ участвующую в формуле функционала, оценим её сверху некоторой гладкой функцией потерь и будем минимизировать её:\n",
    "\n",
    "$$Q(w, X) = \\frac{1}{N} \\sum_{i = 1}^l [M_i < 0] = \\frac{1}{l} \\sum_{i = 1}^l L(M_i) \\le \\frac{1}{l} \\sum_{i = 1}^l \\widetilde{L}(M_i) = \\widetilde{Q}(w, X) \\to \\min_{w}$$.  \n",
    "\n",
    "### Итог\n",
    "\n",
    "Таким образом, процесс обучения линейного классификатора складывается из следующих шагов:\n",
    "\n",
    "* Получение обучающей выборки $X = \\{ \\left( x_i, y_i \\right) \\}_{i=1}^N$\n",
    "* Выбор верхней оценки для пороговой функции потерь — отсюда получаем общий вид оптимизируемого функционала $\\widetilde{Q}(w, X^N)$\n",
    "* Проводим оптимизацию при помощи некоторого метода оптимизации и получаем оптимальное значение $w^*$\n",
    "* Предсказываем ответы для новых объектов по формуле $a(x) = sign(\\langle w^*, x\\rangle$).\n",
    "\n",
    "### Логистическая регрессия\n",
    "\n",
    "Рассмотрим в качестве верхней оценки пороговой функции потерь логистическую функцию:\n",
    "\n",
    "$$\\widetilde{L}(M) = \\log_2(1 + \\exp(-M)).$$\n",
    "\n",
    "Таким образом, необходимо решить следующую оптимизационную задачу:\n",
    "$$\\frac{1}{N} \\sum_{i=1}^N \\widetilde{L} (M_i) = \\frac{1}{N} \\sum_{i=1}^l \\log_2 (1 + \\exp (-y_i \\langle w, x_i \\rangle)) \\to \\min_w$$\n",
    "\n",
    "Получившийся метод обучения называется **логистической регрессией**.\n",
    "\n",
    "\n",
    "\n",
    "### Пример обучения логистической регрессии\n",
    "#### Определение спама по тексту электронного письма\n",
    "\n",
    "Попробуем при помощи моделей линейной классификации построить алгоритм, отделяющий спам от нормальной почты. Для экспериментов воспользуемся небольшим набором [данных](https://archive.ics.uci.edu/ml/datasets/spambase) с UCI. Объекты в датасете соответствуют письмам, которые описаны признаками на основе текста письма, спам — положительный пример для классификации, хорошее письмо — отрицательный пример.\n"
   ]
  },
  {
   "cell_type": "code",
   "execution_count": 2,
   "metadata": {
    "colab": {
     "base_uri": "https://localhost:8080/",
     "height": 91,
     "resources": {
      "http://localhost:8080/nbextensions/google.colab/files.js": {
       "data": "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",
       "headers": [
        [
         "content-type",
         "application/javascript"
        ]
       ],
       "ok": true,
       "status": 200,
       "status_text": ""
      }
     }
    },
    "colab_type": "code",
    "executionInfo": {
     "elapsed": 14633,
     "status": "ok",
     "timestamp": 1580456567333,
     "user": {
      "displayName": "Ольга Вальба",
      "photoUrl": "",
      "userId": "04934129751593393149"
     },
     "user_tz": -120
    },
    "id": "GOzlAZlfiq2i",
    "outputId": "3e439854-ad5b-4383-8ae9-c169a592476f"
   },
   "outputs": [
    {
     "ename": "ModuleNotFoundError",
     "evalue": "No module named 'google'",
     "output_type": "error",
     "traceback": [
      "\u001b[0;31m---------------------------------------------------------------------------\u001b[0m",
      "\u001b[0;31mModuleNotFoundError\u001b[0m                       Traceback (most recent call last)",
      "\u001b[0;32m<ipython-input-2-292f82be1b7a>\u001b[0m in \u001b[0;36m<module>\u001b[0;34m\u001b[0m\n\u001b[0;32m----> 1\u001b[0;31m \u001b[0;32mfrom\u001b[0m \u001b[0mgoogle\u001b[0m\u001b[0;34m.\u001b[0m\u001b[0mcolab\u001b[0m \u001b[0;32mimport\u001b[0m \u001b[0mfiles\u001b[0m\u001b[0;34m\u001b[0m\u001b[0;34m\u001b[0m\u001b[0m\n\u001b[0m\u001b[1;32m      2\u001b[0m \u001b[0;34m\u001b[0m\u001b[0m\n\u001b[1;32m      3\u001b[0m \u001b[0muploaded\u001b[0m \u001b[0;34m=\u001b[0m \u001b[0mfiles\u001b[0m\u001b[0;34m.\u001b[0m\u001b[0mupload\u001b[0m\u001b[0;34m(\u001b[0m\u001b[0;34m)\u001b[0m\u001b[0;34m\u001b[0m\u001b[0;34m\u001b[0m\u001b[0m\n\u001b[1;32m      4\u001b[0m \u001b[0;34m\u001b[0m\u001b[0m\n\u001b[1;32m      5\u001b[0m \u001b[0;32mfor\u001b[0m \u001b[0mfn\u001b[0m \u001b[0;32min\u001b[0m \u001b[0muploaded\u001b[0m\u001b[0;34m.\u001b[0m\u001b[0mkeys\u001b[0m\u001b[0;34m(\u001b[0m\u001b[0;34m)\u001b[0m\u001b[0;34m:\u001b[0m\u001b[0;34m\u001b[0m\u001b[0;34m\u001b[0m\u001b[0m\n",
      "\u001b[0;31mModuleNotFoundError\u001b[0m: No module named 'google'"
     ]
    }
   ],
   "source": [
    "from google.colab import files\n",
    "\n",
    "uploaded = files.upload()\n",
    "\n",
    "for fn in uploaded.keys():\n",
    "  print('User uploaded file \"{name}\" with length {length} bytes'.format(\n",
    "      name=fn, length=len(uploaded[fn])))"
   ]
  },
  {
   "cell_type": "code",
   "execution_count": null,
   "metadata": {
    "colab": {},
    "colab_type": "code",
    "id": "IFYNbwdmiq2m",
    "outputId": "5b1fb3d0-273b-4785-f3b1-a2376d2125c9"
   },
   "outputs": [],
   "source": [
    "import pandas\n",
    "spam=pd.read_csv('spambase.csv') \n",
    "spam.head()"
   ]
  },
  {
   "cell_type": "code",
   "execution_count": null,
   "metadata": {
    "colab": {},
    "colab_type": "code",
    "id": "QZwvAS2piq2r",
    "outputId": "ce291c33-da66-4631-fcda-4b6dc3880dbc"
   },
   "outputs": [],
   "source": [
    "X, y = spam.iloc[:, :-1].values, spam.iloc[:, -1].values\n",
    "print(X.shape,y.shape)"
   ]
  },
  {
   "cell_type": "markdown",
   "metadata": {
    "colab_type": "text",
    "id": "xNU-lp9Ciq2v"
   },
   "source": [
    "### Обучение логистической регрессии"
   ]
  },
  {
   "cell_type": "markdown",
   "metadata": {
    "colab_type": "text",
    "id": "BU35BbIciq2w"
   },
   "source": [
    "Разделим выборку на обучающую и тестовую в отношении 80/20 и обучим логистическую регрессию при помощи объекта [LogisticRegression](http://scikit-learn.org/stable/modules/generated/sklearn.linear_model.LogisticRegression.html)."
   ]
  },
  {
   "cell_type": "code",
   "execution_count": null,
   "metadata": {
    "colab": {},
    "colab_type": "code",
    "id": "5dWRxSGliq2x"
   },
   "outputs": [],
   "source": [
    "from sklearn.linear_model import LogisticRegression\n",
    "from sklearn import metrics\n",
    "\n",
    "lr = LogisticRegression()\n",
    "\n",
    "X_train, X_test, y_train, y_test = train_test_split(X, y, shuffle=True, test_size=0.2)\n",
    "lr.fit(X_train, y_train)\n",
    "\n",
    "y_pred = lr.predict(X_test)\n"
   ]
  },
  {
   "cell_type": "markdown",
   "metadata": {
    "colab_type": "text",
    "id": "ceo28Z2Piq21"
   },
   "source": [
    "## Качество классификации\n",
    "\n",
    "Построим матрицу ошибок и рассмотрим различные [метрики качества](https://scikit-learn.org/stable/modules/model_evaluation.html#classification-metrics), вычисляемые по матрице ошибок:\n",
    "\n",
    "  - Доля правильных ответов (Accuracy):\n",
    "  $$accuracy = \\frac{TP + TN}{TP + TN + FP + FN}$$\n",
    "  - Точность/precision (доля действительно положительных объектов среди объектов, выделенных алгоритмом):\n",
    "  $$precision = \\frac{TP}{TP + FP}$$\n",
    "  - Полнота/recall (доля выделенных алгоритмом объектов среди всех положительных объектов выборки):\n",
    "  $$recall = \\frac{TP}{TP + FN}$$\n",
    "  - $F_1$-мера (среднее гармоническое между точностью и полнотой)\n",
    "  $$F_1 = \\frac{2 \\cdot Precision \\cdot Recall}{Precision + Recall}$$"
   ]
  },
  {
   "cell_type": "code",
   "execution_count": null,
   "metadata": {
    "colab": {},
    "colab_type": "code",
    "id": "BxkpUrT-iq22",
    "outputId": "6119f07e-7b71-4124-d458-0eeed22c5ce5"
   },
   "outputs": [],
   "source": [
    "print(metrics.confusion_matrix(y_test,y_pred))"
   ]
  },
  {
   "cell_type": "code",
   "execution_count": null,
   "metadata": {
    "colab": {},
    "colab_type": "code",
    "id": "MwXnaX3Ciq26",
    "outputId": "db6f9085-9854-4abf-ea67-b6b11b77defe"
   },
   "outputs": [],
   "source": [
    "print ('Accuracy =', metrics.accuracy_score(y_test, y_pred))\n",
    "print ('Precision =', metrics.precision_score(y_test, y_pred))\n",
    "print ('Recall =', metrics.recall_score(y_test, y_pred))\n",
    "print ('F1 score =', metrics.f1_score(y_test, y_pred))"
   ]
  },
  {
   "cell_type": "code",
   "execution_count": null,
   "metadata": {
    "colab": {},
    "colab_type": "code",
    "id": "VsSXR0Rriq3A",
    "outputId": "0f85c9a4-b243-4376-f786-56b2e68fefdb"
   },
   "outputs": [],
   "source": [
    "print(metrics.classification_report(y_test, y_pred)) "
   ]
  },
  {
   "cell_type": "markdown",
   "metadata": {
    "colab_type": "text",
    "id": "2tabyd4Riq3D"
   },
   "source": [
    "\n",
    "\n",
    "### Выбор порога классификации и интегральные метрики\n",
    "Многие модели классификации получают оценку принадлежности положительному классу $b(x) \\in \\mathbb{R}$, после чего принимается решение о классификации объекта путем сравнения оценки с некоторым порогом:\n",
    "\n",
    "$a(x) = \\begin{cases}\n",
    "        +1, \\, b(x) \\ge t,\\\\\n",
    "        -1, \\, b(x) < t.\n",
    "        \\end{cases}$\n",
    "        \n",
    "\n",
    "Поскольку иногда необходимо оценить качество модели $b(x),$ предсказывающей не конкретную метку класса, а степень принадлежности классу (т.е. вне зависимости от значения порога), рассматривают координатную плоскость, по осям которой отложены значения метрик, а качество работы классификатора представлено в виде кривой — траектории изменения соответствующих метрик при варьировании порога\n",
    "\n",
    "Наиболее распространены ROC-кривые и Precision/Recall кривые.\n",
    " - По осям Ox и Oy ROC-кривой отложены соответственно False Positive Rate (FPR) и True Positive Rate (TPR):\n",
    " $$FPR = \\frac{FP}{FP + TN},$$\n",
    " $$TPR = \\frac{TP}{FN + TP}.$$\n",
    " - По осям Ox и Oy PR-кривой отложены соответственно Recall и Precision.\n",
    "\n",
    "В случае, если необходимо сравнить качество классификаторов вне зависимости от порога, применяют интегральные числовые метрики, например AUC-ROC (**A**rea **U**nder RO**C**) — площадь под ROC-кривой классификатора. "
   ]
  },
  {
   "cell_type": "markdown",
   "metadata": {
    "colab_type": "text",
    "id": "NLyJfwHiiq3F"
   },
   "source": [
    "Для построения кривых необходимо знать вероятности принадлежности к классу, в логистической регрессии вероятности определяется: \n",
    "$$ p_+=\\frac{1}{1 + \\exp (-\\langle w, x_i \\rangle)},$$\n",
    "$$ p_-=1-p_+=\\frac{1}{1 + \\exp (\\langle w, x_i \\rangle)}$$\n",
    "и могут быть вычислены с помошью [predict_proba](https://scikit-learn.org/stable/modules/generated/sklearn.linear_model.LogisticRegression.html#sklearn.linear_model.LogisticRegression.predict_proba)"
   ]
  },
  {
   "cell_type": "code",
   "execution_count": null,
   "metadata": {
    "colab": {},
    "colab_type": "code",
    "id": "F8KZ7le8iq3G",
    "outputId": "76b69bdf-654f-465c-b782-3f65582ea51f"
   },
   "outputs": [],
   "source": [
    "probs=lr.predict_proba(X_test)\n",
    "probs"
   ]
  },
  {
   "cell_type": "code",
   "execution_count": null,
   "metadata": {
    "colab": {},
    "colab_type": "code",
    "id": "BiIZ4S-_iq3K",
    "outputId": "55c804d8-8d0c-4b11-fab4-b636aa399a82"
   },
   "outputs": [],
   "source": [
    "print('Probability of positive class =',probs[10,1]) # для десятого объекта в тестовой выборке\n",
    "print('Probability of negative class =',probs[10,0])"
   ]
  },
  {
   "cell_type": "code",
   "execution_count": null,
   "metadata": {
    "colab": {},
    "colab_type": "code",
    "id": "NpIPPJx8iq3O",
    "outputId": "d271810e-a044-4338-e44f-f8661b9a77f8"
   },
   "outputs": [],
   "source": [
    "fpr, tpr, thresholds = metrics.roc_curve(y_test, probs[:, 1])\n",
    "plt.plot(fpr, tpr)\n",
    "plt.xlabel('FPR')\n",
    "plt.ylabel('TPR')\n",
    "plt.show()"
   ]
  },
  {
   "cell_type": "code",
   "execution_count": null,
   "metadata": {
    "colab": {},
    "colab_type": "code",
    "id": "bDSpTi3Fiq3S",
    "outputId": "b579b168-f43d-42c5-cccd-33515bed5ef6"
   },
   "outputs": [],
   "source": [
    "precision, recall, thresholds =metrics.precision_recall_curve(y_test, probs[:, 1])\n",
    "plt.plot(recall, precision)\n",
    "plt.xlabel('recall')\n",
    "plt.ylabel('precision')\n",
    "plt.show()"
   ]
  },
  {
   "cell_type": "code",
   "execution_count": null,
   "metadata": {
    "colab": {},
    "colab_type": "code",
    "id": "feAgPp1kiq3V",
    "outputId": "017c2f9e-76ab-4e66-89c4-0bb808d1fec3"
   },
   "outputs": [],
   "source": [
    "print('AUC-ROC=',metrics.auc(fpr, tpr))\n",
    "print('AUC-Precision/Recall=',metrics.auc(recall, precision))"
   ]
  },
  {
   "cell_type": "markdown",
   "metadata": {
    "colab_type": "text",
    "id": "8beKvU4fiq3a"
   },
   "source": [
    "### Среднее значение  AUC-ROC:"
   ]
  },
  {
   "cell_type": "code",
   "execution_count": null,
   "metadata": {
    "colab": {},
    "colab_type": "code",
    "id": "3gg1NeXmiq3b",
    "outputId": "e0f710e1-54f7-4378-c459-f7761c6c9e3b"
   },
   "outputs": [],
   "source": [
    "from sklearn.model_selection import ShuffleSplit\n",
    "\n",
    "cv = ShuffleSplit(n_splits=10, test_size=0.3, random_state=23)\n",
    "\n",
    "quals = []\n",
    "lr = LogisticRegression()\n",
    "for tr_ind, test_ind in cv.split(X):\n",
    "    lr.fit(X[tr_ind], y[tr_ind])\n",
    "    quals.append(metrics.roc_auc_score(y[test_ind], lr.predict_proba(X[test_ind,:])[:,1]))\n",
    "    \n",
    "print ('Mean AUC-ROC =', np.mean(quals))\n",
    "print ('AUC-ROC standart deviation =', np.std(quals))"
   ]
  },
  {
   "cell_type": "markdown",
   "metadata": {
    "colab_type": "text",
    "id": "L8rhHKr7iq3g"
   },
   "source": [
    "## Регуляризация в логистической регрессии\n",
    "Сгенерируем двумерную искуственную выборку из 2 различных нормальных распределений. Будем использовать для этого [функцию](https://docs.scipy.org/doc/numpy-1.10.0/reference/generated/numpy.random.multivariate_normal.html)."
   ]
  },
  {
   "cell_type": "code",
   "execution_count": null,
   "metadata": {
    "colab": {
     "base_uri": "https://localhost:8080/",
     "height": 596
    },
    "colab_type": "code",
    "executionInfo": {
     "elapsed": 1297,
     "status": "ok",
     "timestamp": 1580459418620,
     "user": {
      "displayName": "Ольга Вальба",
      "photoUrl": "",
      "userId": "04934129751593393149"
     },
     "user_tz": -120
    },
    "id": "N5u6fHLbiq3h",
    "outputId": "4c7daa41-4985-47b5-d627-81dfa258a589"
   },
   "outputs": [],
   "source": [
    "np.random.seed(17)\n",
    "plt.figure(figsize=(20,10))\n",
    "mean1 = [10, 5]\n",
    "cov1 = [[1, 0], [0, 5]]  # diagonal covariance\n",
    "data1 = np.random.multivariate_normal(mean1, cov1, 1000)\n",
    "mean2 = [0, 0]\n",
    "cov2 = [[3, 2], [2, 2]]\n",
    "data2 = np.random.multivariate_normal(mean2, cov2, 1000)\n",
    "X = np.vstack((data1, data2))\n",
    "y = np.hstack((-np.ones(1000), np.ones(1000))) ### \n",
    "\n",
    "\n",
    "plt.scatter(data1[:, 0], data1[:, 1], c='blue')\n",
    "plt.scatter(data2[:, 0], data2[:, 1], c='green')\n",
    "plt.legend(['y = -1', 'y = 1'])\n",
    "plt.axis([-5,15,-5,15])\n",
    "plt.show()"
   ]
  },
  {
   "cell_type": "code",
   "execution_count": null,
   "metadata": {
    "colab": {
     "base_uri": "https://localhost:8080/",
     "height": 34
    },
    "colab_type": "code",
    "executionInfo": {
     "elapsed": 654,
     "status": "ok",
     "timestamp": 1580459493724,
     "user": {
      "displayName": "Ольга Вальба",
      "photoUrl": "",
      "userId": "04934129751593393149"
     },
     "user_tz": -120
    },
    "id": "2arVlNKdiq3k",
    "outputId": "1cb2332c-60f5-447a-c7c3-11d6b2cacf32"
   },
   "outputs": [],
   "source": [
    "lr = LogisticRegression()\n",
    "lr = lr.fit(X, y)\n",
    "\n",
    "preds = lr.predict(X)\n",
    "print ('Accuracy =', metrics.accuracy_score(y, preds))"
   ]
  },
  {
   "cell_type": "code",
   "execution_count": null,
   "metadata": {
    "colab": {
     "base_uri": "https://localhost:8080/",
     "height": 596
    },
    "colab_type": "code",
    "executionInfo": {
     "elapsed": 1248,
     "status": "ok",
     "timestamp": 1580459588469,
     "user": {
      "displayName": "Ольга Вальба",
      "photoUrl": "",
      "userId": "04934129751593393149"
     },
     "user_tz": -120
    },
    "id": "W5krCPbdiq3n",
    "outputId": "cbe465df-b828-4867-f469-58d4425b9fe5"
   },
   "outputs": [],
   "source": [
    "plt.figure(figsize=(20,10))\n",
    "\n",
    "plx=np.linspace(0,10,1000)\n",
    "ply=np.zeros(1000)\n",
    "for i in range(len(plx)):\n",
    "    ply[i]=-(lr.intercept_+lr.coef_[0,0]*plx[i])/ lr.coef_[0,1]\n",
    "    \n",
    "plt.scatter(data1[:, 0], data1[:, 1], c='blue')\n",
    "plt.scatter(data2[:, 0], data2[:, 1], c='green')\n",
    "plt.legend(['y = -1', 'y = 1'])\n",
    "plt.axis([-5,15,-5,15])\n",
    "\n",
    "plt.plot(plx,ply, color='r')\n",
    "\n",
    "plt.show()"
   ]
  },
  {
   "cell_type": "code",
   "execution_count": null,
   "metadata": {
    "colab": {},
    "colab_type": "code",
    "id": "5cdabBjyiq3q",
    "outputId": "c549e68b-35e0-4dc9-f6e2-22739b6afa1c"
   },
   "outputs": [],
   "source": [
    "print(lr.coef_)"
   ]
  },
  {
   "cell_type": "code",
   "execution_count": null,
   "metadata": {
    "colab": {
     "base_uri": "https://localhost:8080/",
     "height": 34
    },
    "colab_type": "code",
    "executionInfo": {
     "elapsed": 648,
     "status": "ok",
     "timestamp": 1580459557402,
     "user": {
      "displayName": "Ольга Вальба",
      "photoUrl": "",
      "userId": "04934129751593393149"
     },
     "user_tz": -120
    },
    "id": "GlLs1thsiq3x",
    "outputId": "3b649905-0ccb-4af5-e24f-c2e5c46560c1"
   },
   "outputs": [],
   "source": [
    "lr = LogisticRegression(C=0.1)\n",
    "lr = lr.fit(X, y)\n",
    "\n",
    "preds = lr.predict(X)\n",
    "print ('Accuracy =', metrics.accuracy_score(y, preds))"
   ]
  },
  {
   "cell_type": "code",
   "execution_count": null,
   "metadata": {
    "colab": {},
    "colab_type": "code",
    "id": "nw9GeNaDiq30",
    "outputId": "383f14c0-6a55-48b0-c922-3693eb267459"
   },
   "outputs": [],
   "source": [
    "print(lr.coef_)"
   ]
  },
  {
   "cell_type": "code",
   "execution_count": null,
   "metadata": {
    "colab": {},
    "colab_type": "code",
    "id": "qDD3N9qliq33",
    "outputId": "1a243678-7bfa-4709-f68d-142ce9a246a5"
   },
   "outputs": [],
   "source": [
    "from sklearn.model_selection import GridSearchCV\n",
    "\n",
    "alphas=np.logspace(-2,3,21)\n",
    "param_grid = {'C': alphas}\n",
    "cv = 3\n",
    "\n",
    "optimizer = GridSearchCV(LogisticRegression(), param_grid, cv = cv)\n",
    "\n",
    "optimizer.fit(X, y)"
   ]
  },
  {
   "cell_type": "code",
   "execution_count": null,
   "metadata": {
    "colab": {},
    "colab_type": "code",
    "id": "vdOcQIsUiq36"
   },
   "outputs": [],
   "source": [
    "score_mean=optimizer.cv_results_['mean_test_score']\n",
    "score_std=optimizer.cv_results_['std_test_score']"
   ]
  },
  {
   "cell_type": "code",
   "execution_count": null,
   "metadata": {
    "colab": {},
    "colab_type": "code",
    "id": "vExZoMhKiq39",
    "outputId": "a29d09c3-ff43-49d1-805e-6145097dacbb"
   },
   "outputs": [],
   "source": [
    "plt.fill_between(alphas, score_mean - score_std, score_mean + score_std, \n",
    "                 alpha = 0.15, color = 'm')\n",
    "plt.semilogx(alphas, score_mean, color = 'm')"
   ]
  },
  {
   "cell_type": "code",
   "execution_count": null,
   "metadata": {
    "colab": {},
    "colab_type": "code",
    "id": "d98EnlCRiq3_",
    "outputId": "d3fa71a1-3e0f-4304-9283-eef22b5fc6d9"
   },
   "outputs": [],
   "source": [
    "print(optimizer.best_params_)"
   ]
  },
  {
   "cell_type": "code",
   "execution_count": null,
   "metadata": {
    "colab": {},
    "colab_type": "code",
    "id": "OyIIuIm7iq4C",
    "outputId": "2d81e01f-11c9-47c0-8649-18e6bfcc2068"
   },
   "outputs": [],
   "source": [
    "lr = LogisticRegression(C=31)\n",
    "lr = lr.fit(X, y)\n",
    "\n",
    "preds = lr.predict(X)\n",
    "print ('Accuracy =', metrics.accuracy_score(y, preds))"
   ]
  },
  {
   "cell_type": "code",
   "execution_count": null,
   "metadata": {
    "colab": {},
    "colab_type": "code",
    "id": "n4dga__Aiq4G"
   },
   "outputs": [],
   "source": []
  }
 ],
 "metadata": {
  "anaconda-cloud": {},
  "colab": {
   "name": "Seminar05.ipynb",
   "provenance": []
  },
  "kernelspec": {
   "display_name": "Python 3",
   "language": "python",
   "name": "python3"
  },
  "language_info": {
   "codemirror_mode": {
    "name": "ipython",
    "version": 3
   },
   "file_extension": ".py",
   "mimetype": "text/x-python",
   "name": "python",
   "nbconvert_exporter": "python",
   "pygments_lexer": "ipython3",
   "version": "3.7.4"
  }
 },
 "nbformat": 4,
 "nbformat_minor": 1
}
